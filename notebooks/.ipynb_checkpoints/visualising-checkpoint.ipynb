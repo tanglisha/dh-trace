{
 "cells": [
  {
   "cell_type": "markdown",
   "metadata": {},
   "source": [
    "# Begin visualisations"
   ]
  },
  {
   "cell_type": "code",
   "execution_count": 1,
   "metadata": {
    "execution": {
     "iopub.execute_input": "2024-05-01T14:38:52.077138Z",
     "iopub.status.busy": "2024-05-01T14:38:52.076310Z",
     "iopub.status.idle": "2024-05-01T14:38:52.421895Z",
     "shell.execute_reply": "2024-05-01T14:38:52.421619Z",
     "shell.execute_reply.started": "2024-05-01T14:38:52.077084Z"
    }
   },
   "outputs": [],
   "source": [
    "from pathlib import Path\n",
    "import pandas as pd\n",
    "import sqlite3\n",
    "import networkx as nx\n",
    "#import matplotlib.pyplot as plt\n",
    "from ipycytoscape import CytoscapeWidget\n",
    "from sqlite3 import OperationalError\n",
    "from contextlib import suppress\n",
    "import ipywidgets as widgets\n",
    "from pprint import pprint\n"
   ]
  },
  {
   "cell_type": "code",
   "execution_count": 2,
   "metadata": {
    "execution": {
     "iopub.execute_input": "2024-05-01T14:38:56.119885Z",
     "iopub.status.busy": "2024-05-01T14:38:56.119176Z",
     "iopub.status.idle": "2024-05-01T14:38:56.128653Z",
     "shell.execute_reply": "2024-05-01T14:38:56.127972Z",
     "shell.execute_reply.started": "2024-05-01T14:38:56.119846Z"
    }
   },
   "outputs": [
    {
     "data": {
      "text/plain": [
       "PosixPath('..')"
      ]
     },
     "execution_count": 2,
     "metadata": {},
     "output_type": "execute_result"
    }
   ],
   "source": [
    "working = Path('..')\n",
    "working"
   ]
  },
  {
   "cell_type": "code",
   "execution_count": 3,
   "metadata": {
    "execution": {
     "iopub.execute_input": "2024-05-01T14:38:58.521963Z",
     "iopub.status.busy": "2024-05-01T14:38:58.521493Z",
     "iopub.status.idle": "2024-05-01T14:38:58.652192Z",
     "shell.execute_reply": "2024-05-01T14:38:58.650576Z",
     "shell.execute_reply.started": "2024-05-01T14:38:58.521941Z"
    }
   },
   "outputs": [
    {
     "name": "stdout",
     "output_type": "stream",
     "text": [
      "/Users/tarah/Library/Mobile Documents/com~apple~CloudDocs/ONGOING-Oxford/OxfordTree/oxford_uni/dh-trace/notebooks\n"
     ]
    }
   ],
   "source": [
    "!pwd"
   ]
  },
  {
   "cell_type": "code",
   "execution_count": 4,
   "metadata": {
    "execution": {
     "iopub.execute_input": "2024-05-01T14:39:00.394966Z",
     "iopub.status.busy": "2024-05-01T14:39:00.394508Z",
     "iopub.status.idle": "2024-05-01T14:39:00.529193Z",
     "shell.execute_reply": "2024-05-01T14:39:00.528340Z",
     "shell.execute_reply.started": "2024-05-01T14:39:00.394935Z"
    }
   },
   "outputs": [
    {
     "name": "stdout",
     "output_type": "stream",
     "text": [
      "LICENSE                    load_hapaxes.py\n",
      "Project History.pdf        load_jaccard.py\n",
      "README.md                  load_ngram_intersects.py\n",
      "\u001b[34m__pycache__\u001b[m\u001b[m                load_ngrams.py\n",
      "\u001b[34march\u001b[m\u001b[m                       load_relationships.py\n",
      "authors.txt                make_3d_plot.py\n",
      "auto_author_prediction.py  make_auto_scatterplot.py\n",
      "\u001b[31mbegin.sh\u001b[m\u001b[m                   make_confusion.py\n",
      "\u001b[34mcleaning_splitting_scripts\u001b[m\u001b[m make_dash.py\n",
      "database_ops.py            make_histogram.py\n",
      "\u001b[34mdh-trace-venv\u001b[m\u001b[m              make_jumbo_dash.py\n",
      "diagrams.ipynb             make_lines.py\n",
      "do_svm.py                  \u001b[34mnotebooks\u001b[m\u001b[m\n",
      "\u001b[31mdo_viz.sh\u001b[m\u001b[m                  poetry.lock\n",
      "\u001b[34mexplore\u001b[m\u001b[m                    predict_ops.py\n",
      "hapaxes_1tM.py             \u001b[34mprojects\u001b[m\u001b[m\n",
      "init_db.py                 pyproject.toml\n",
      "\u001b[34mjan24\u001b[m\u001b[m                      requirements.txt\n",
      "load_alignments.py         show_previous_averages.py\n",
      "load_authors_and_texts.py  util.py\n",
      "load_hapax_intersects.py   \u001b[34mutils\u001b[m\u001b[m\n"
     ]
    }
   ],
   "source": [
    "!ls $working"
   ]
  },
  {
   "cell_type": "code",
   "execution_count": 5,
   "metadata": {
    "execution": {
     "iopub.execute_input": "2024-05-01T14:39:02.228104Z",
     "iopub.status.busy": "2024-05-01T14:39:02.227658Z",
     "iopub.status.idle": "2024-05-01T14:39:02.232864Z",
     "shell.execute_reply": "2024-05-01T14:39:02.231966Z",
     "shell.execute_reply.started": "2024-05-01T14:39:02.228070Z"
    }
   },
   "outputs": [],
   "source": [
    "things = working.glob('*')"
   ]
  },
  {
   "cell_type": "code",
   "execution_count": 6,
   "metadata": {
    "execution": {
     "iopub.execute_input": "2024-05-01T14:39:03.717160Z",
     "iopub.status.busy": "2024-05-01T14:39:03.716654Z",
     "iopub.status.idle": "2024-05-01T14:39:03.722726Z",
     "shell.execute_reply": "2024-05-01T14:39:03.722094Z",
     "shell.execute_reply.started": "2024-05-01T14:39:03.717129Z"
    }
   },
   "outputs": [
    {
     "name": "stdout",
     "output_type": "stream",
     "text": [
      "../make_dash.py\n",
      "../database_ops.py\n",
      "../diagrams.ipynb\n",
      "../.DS_Store\n",
      "../LICENSE\n",
      "../requirements.txt\n",
      "../cleaning_splitting_scripts\n",
      "../make_lines.py\n",
      "../util.py\n",
      "../auto_author_prediction.py\n",
      "../make_confusion.py\n",
      "../projects\n",
      "../pyproject.toml\n",
      "../predict_ops.py\n",
      "../load_jaccard.py\n",
      "../do_viz.sh\n",
      "../utils\n",
      "../__pycache__\n",
      "../load_hapaxes.py\n",
      "../Project History.pdf\n",
      "../jan24\n",
      "../explore\n",
      "../README.md\n",
      "../load_ngram_intersects.py\n",
      "../load_hapax_intersects.py\n",
      "../load_ngrams.py\n",
      "../.gitignore\n",
      "../arch\n",
      "../load_alignments.py\n",
      "../make_jumbo_dash.py\n",
      "../begin.sh\n",
      "../load_authors_and_texts.py\n",
      "../hapaxes_1tM.py\n",
      "../make_auto_scatterplot.py\n",
      "../show_previous_averages.py\n",
      "../make_3d_plot.py\n",
      "../poetry.lock\n",
      "../.git\n",
      "../.vscode\n",
      "../load_relationships.py\n",
      "../authors.txt\n",
      "../dh-trace-venv\n",
      "../make_histogram.py\n",
      "../notebooks\n",
      "../do_svm.py\n",
      "../.current_project\n",
      "../init_db.py\n"
     ]
    }
   ],
   "source": [
    "for thing in things:\n",
    "    print(thing)"
   ]
  },
  {
   "cell_type": "code",
   "execution_count": 7,
   "metadata": {
    "execution": {
     "iopub.execute_input": "2024-05-01T14:39:06.699718Z",
     "iopub.status.busy": "2024-05-01T14:39:06.699395Z",
     "iopub.status.idle": "2024-05-01T14:39:06.702934Z",
     "shell.execute_reply": "2024-05-01T14:39:06.702174Z",
     "shell.execute_reply.started": "2024-05-01T14:39:06.699696Z"
    }
   },
   "outputs": [],
   "source": [
    "project_name = 'eltec-100'\n",
    "project_path = working / 'projects' / project_name"
   ]
  },
  {
   "cell_type": "code",
   "execution_count": 8,
   "metadata": {
    "execution": {
     "iopub.execute_input": "2024-05-01T14:39:08.284044Z",
     "iopub.status.busy": "2024-05-01T14:39:08.283563Z",
     "iopub.status.idle": "2024-05-01T14:39:08.291355Z",
     "shell.execute_reply": "2024-05-01T14:39:08.290156Z",
     "shell.execute_reply.started": "2024-05-01T14:39:08.284014Z"
    }
   },
   "outputs": [
    {
     "data": {
      "text/plain": [
       "PosixPath('../projects/eltec-100')"
      ]
     },
     "execution_count": 8,
     "metadata": {},
     "output_type": "execute_result"
    }
   ],
   "source": [
    "project_path"
   ]
  },
  {
   "cell_type": "code",
   "execution_count": 9,
   "metadata": {
    "execution": {
     "iopub.execute_input": "2024-05-01T14:39:10.407100Z",
     "iopub.status.busy": "2024-05-01T14:39:10.406625Z",
     "iopub.status.idle": "2024-05-01T14:39:10.412908Z",
     "shell.execute_reply": "2024-05-01T14:39:10.412282Z",
     "shell.execute_reply.started": "2024-05-01T14:39:10.407062Z"
    }
   },
   "outputs": [
    {
     "data": {
      "text/plain": [
       "PosixPath('../projects/eltec-100/db/eltec-100.db')"
      ]
     },
     "execution_count": 9,
     "metadata": {},
     "output_type": "execute_result"
    }
   ],
   "source": [
    "db_path = project_path / 'db' / f'{project_name}.db'\n",
    "db_path"
   ]
  },
  {
   "cell_type": "code",
   "execution_count": 10,
   "metadata": {
    "execution": {
     "iopub.execute_input": "2024-05-01T14:39:11.711621Z",
     "iopub.status.busy": "2024-05-01T14:39:11.711167Z",
     "iopub.status.idle": "2024-05-01T14:39:11.717454Z",
     "shell.execute_reply": "2024-05-01T14:39:11.716764Z",
     "shell.execute_reply.started": "2024-05-01T14:39:11.711584Z"
    }
   },
   "outputs": [
    {
     "data": {
      "text/plain": [
       "True"
      ]
     },
     "execution_count": 10,
     "metadata": {},
     "output_type": "execute_result"
    }
   ],
   "source": [
    "db_path.exists()"
   ]
  },
  {
   "cell_type": "code",
   "execution_count": 11,
   "metadata": {
    "execution": {
     "iopub.execute_input": "2024-05-01T14:39:12.881828Z",
     "iopub.status.busy": "2024-05-01T14:39:12.881342Z",
     "iopub.status.idle": "2024-05-01T14:39:12.887349Z",
     "shell.execute_reply": "2024-05-01T14:39:12.886739Z",
     "shell.execute_reply.started": "2024-05-01T14:39:12.881796Z"
    }
   },
   "outputs": [],
   "source": [
    "EDGES_QUERY = \"\"\"\n",
    "SELECT \n",
    "    calculation.pair_id,\n",
    "    round(calculation.comp_score, 3) as comp_score,\n",
    "    threshold,\n",
    "    weight.weight_id,\n",
    "    weight.hap_weight,\n",
    "    weight.al_weight,\n",
    "    text_pair.text_a AS a_text_id,\n",
    "    text_pair.text_b AS b_text_id,\n",
    "    text_a.source_filename AS a_text_filename,\n",
    "    text_b.source_filename AS b_text_filename,\n",
    "    dir_a.id AS a_work_dir_id,\n",
    "    dir_b.id AS b_work_dir_id,\n",
    "    dir_a.dir AS a_work,\n",
    "    dir_b.dir AS b_work,\n",
    "    text_a.author_id AS a_author_id,\n",
    "    text_b.author_id AS b_author_id,\n",
    "    calculation.same_author,\n",
    "    author_a.author_name AS a_author,\n",
    "    author_b.author_name AS b_author\n",
    "FROM calculations AS calculation\n",
    "    JOIN text_pairs AS text_pair ON text_pair.id = calculation.pair_id\n",
    "    JOIN weights AS weight ON weight.weight_id = calculation.weight_id\n",
    "    JOIN all_texts AS text_a ON text_a.text_id = text_pair.text_a\n",
    "    JOIN all_texts AS text_b ON text_b.text_id = text_pair.text_b\n",
    "    JOIN dirs AS dir_a ON dir_a.id = text_a.dir\n",
    "    JOIN dirs AS dir_b ON dir_b.id = text_b.dir\n",
    "    JOIN authors AS author_a ON author_a.id = text_a.author_id\n",
    "    JOIN authors AS author_b ON author_b.id = text_b.author_id\n",
    "    -- WHERE -- calculation.weight_id = 10\n",
    "    -- AND threshold = 0.75\n",
    "    -- AND a_author_id <> b_author_id\n",
    "    ORDER BY pair_id\n",
    "    -- LIMIT 10\n",
    "\"\"\"\n",
    "#add LIMIT 10 at bottom to limit results to first 10"
   ]
  },
  {
   "cell_type": "code",
   "execution_count": 12,
   "metadata": {
    "execution": {
     "iopub.execute_input": "2024-05-01T14:39:17.133183Z",
     "iopub.status.busy": "2024-05-01T14:39:17.132793Z",
     "iopub.status.idle": "2024-05-01T14:39:17.137525Z",
     "shell.execute_reply": "2024-05-01T14:39:17.136786Z",
     "shell.execute_reply.started": "2024-05-01T14:39:17.133160Z"
    }
   },
   "outputs": [
    {
     "data": {
      "text/plain": [
       "'\\nSELECT \\n    calculation.pair_id,\\n    round(calculation.comp_score, 3) as comp_score,\\n    threshold,\\n    weight.weight_id,\\n    weight.hap_weight,\\n    weight.al_weight,\\n    text_pair.text_a AS a_text_id,\\n    text_pair.text_b AS b_text_id,\\n    text_a.source_filename AS a_text_filename,\\n    text_b.source_filename AS b_text_filename,\\n    dir_a.id AS a_work_dir_id,\\n    dir_b.id AS b_work_dir_id,\\n    dir_a.dir AS a_work,\\n    dir_b.dir AS b_work,\\n    text_a.author_id AS a_author_id,\\n    text_b.author_id AS b_author_id,\\n    calculation.same_author,\\n    author_a.author_name AS a_author,\\n    author_b.author_name AS b_author\\nFROM calculations AS calculation\\n    JOIN text_pairs AS text_pair ON text_pair.id = calculation.pair_id\\n    JOIN weights AS weight ON weight.weight_id = calculation.weight_id\\n    JOIN all_texts AS text_a ON text_a.text_id = text_pair.text_a\\n    JOIN all_texts AS text_b ON text_b.text_id = text_pair.text_b\\n    JOIN dirs AS dir_a ON dir_a.id = text_a.dir\\n    JOIN dirs AS dir_b ON dir_b.id = text_b.dir\\n    JOIN authors AS author_a ON author_a.id = text_a.author_id\\n    JOIN authors AS author_b ON author_b.id = text_b.author_id\\n    -- WHERE -- calculation.weight_id = 10\\n    -- AND threshold = 0.75\\n    -- AND a_author_id <> b_author_id\\n    ORDER BY pair_id\\n    -- LIMIT 10\\n'"
      ]
     },
     "execution_count": 12,
     "metadata": {},
     "output_type": "execute_result"
    }
   ],
   "source": [
    "EDGES_QUERY"
   ]
  },
  {
   "cell_type": "code",
   "execution_count": 13,
   "metadata": {
    "execution": {
     "iopub.execute_input": "2024-05-01T14:39:18.742349Z",
     "iopub.status.busy": "2024-05-01T14:39:18.741782Z",
     "iopub.status.idle": "2024-05-01T14:39:18.746358Z",
     "shell.execute_reply": "2024-05-01T14:39:18.745782Z",
     "shell.execute_reply.started": "2024-05-01T14:39:18.742307Z"
    }
   },
   "outputs": [],
   "source": [
    "con = sqlite3.connect(db_path)"
   ]
  },
  {
   "cell_type": "code",
   "execution_count": 14,
   "metadata": {
    "execution": {
     "iopub.execute_input": "2024-05-01T14:39:20.252123Z",
     "iopub.status.busy": "2024-05-01T14:39:20.251642Z",
     "iopub.status.idle": "2024-05-01T14:39:20.256383Z",
     "shell.execute_reply": "2024-05-01T14:39:20.255793Z",
     "shell.execute_reply.started": "2024-05-01T14:39:20.252091Z"
    }
   },
   "outputs": [],
   "source": [
    "#creates a view of the extensive query above and lets me work with it as if it's a tables\n",
    "with suppress(OperationalError):\n",
    "    con.execute(f\"\"\"\n",
    "    CREATE VIEW edges\n",
    "    AS\n",
    "    {EDGES_QUERY}\n",
    "    \"\"\")\n",
    "#TODO - check suppression of errors"
   ]
  },
  {
   "cell_type": "code",
   "execution_count": 15,
   "metadata": {
    "execution": {
     "iopub.execute_input": "2024-05-01T14:39:22.401921Z",
     "iopub.status.busy": "2024-05-01T14:39:22.401400Z",
     "iopub.status.idle": "2024-05-01T14:39:22.407222Z",
     "shell.execute_reply": "2024-05-01T14:39:22.405830Z",
     "shell.execute_reply.started": "2024-05-01T14:39:22.401895Z"
    }
   },
   "outputs": [
    {
     "name": "stdout",
     "output_type": "stream",
     "text": [
      "\n",
      "SELECT * \n",
      "FROM edges \n",
      "WHERE a_work_dir_id <> b_work_dir_id\n",
      "AND weight_id = 10 \n",
      "AND threshold = 0.9\n",
      "-- LIMIT 1000\n",
      "\n"
     ]
    }
   ],
   "source": [
    "#specify weight and threshold for SQL call\n",
    "weight_value = 10\n",
    "threshold_value = 0.9\n",
    "\n",
    "#Actually run the query\n",
    "query = f\"\"\"\n",
    "SELECT * \n",
    "FROM edges \n",
    "WHERE a_work_dir_id <> b_work_dir_id\n",
    "AND weight_id = {weight_value} \n",
    "AND threshold = {threshold_value}\n",
    "-- LIMIT 1000\n",
    "\"\"\"\n",
    "print(query)"
   ]
  },
  {
   "cell_type": "code",
   "execution_count": 16,
   "metadata": {
    "execution": {
     "iopub.execute_input": "2024-05-01T14:39:28.589316Z",
     "iopub.status.busy": "2024-05-01T14:39:28.588718Z",
     "iopub.status.idle": "2024-05-01T14:39:34.334603Z",
     "shell.execute_reply": "2024-05-01T14:39:34.334308Z",
     "shell.execute_reply.started": "2024-05-01T14:39:28.589279Z"
    }
   },
   "outputs": [
    {
     "name": "stdout",
     "output_type": "stream",
     "text": [
      "544,123\n"
     ]
    }
   ],
   "source": [
    "edges_df = pd.read_sql(query, con)\n",
    "print(f\"{len(edges_df):,}\")"
   ]
  },
  {
   "cell_type": "code",
   "execution_count": 17,
   "metadata": {
    "execution": {
     "iopub.execute_input": "2024-05-01T14:39:37.589050Z",
     "iopub.status.busy": "2024-05-01T14:39:37.588581Z",
     "iopub.status.idle": "2024-05-01T14:39:37.694281Z",
     "shell.execute_reply": "2024-05-01T14:39:37.693795Z",
     "shell.execute_reply.started": "2024-05-01T14:39:37.589025Z"
    }
   },
   "outputs": [
    {
     "name": "stdout",
     "output_type": "stream",
     "text": [
      "1000\n",
      "0.913 0.94\n"
     ]
    }
   ],
   "source": [
    "# SOLVED A way to choose whether to exclude a piece of a work from connecting to itself (e.g. Trollope 1840 ch 10, ibid ch 20) (solved in SQL)\n",
    "\n",
    "#A way to visibly toggle the thresholds to fine-grainedly shade edges and possibly connect them closer\n",
    "\n",
    "#A way to only display desired authors all the way down to one\n",
    "#A way to visibly toggle the weights\n",
    "#A way to light up nodes above a certain threshold even if lower thresholds are displayed\n",
    "#use pandas to group by work so individual book can be displayed on the graph below. \n",
    "\n",
    "edges_df = edges_df.sample(1000)\n",
    "print(len(edges_df))\n",
    "min_comp_score = edges_df['comp_score'].min() \n",
    "max_comp_score = edges_df['comp_score'].max() \n",
    "print(min_comp_score, max_comp_score)"
   ]
  },
  {
   "cell_type": "code",
   "execution_count": 18,
   "metadata": {
    "execution": {
     "iopub.execute_input": "2024-05-01T14:39:44.811389Z",
     "iopub.status.busy": "2024-05-01T14:39:44.810928Z",
     "iopub.status.idle": "2024-05-01T14:39:44.825286Z",
     "shell.execute_reply": "2024-05-01T14:39:44.824142Z",
     "shell.execute_reply.started": "2024-05-01T14:39:44.811365Z"
    }
   },
   "outputs": [],
   "source": [
    "G = nx.from_pandas_edgelist(\n",
    "    edges_df,\n",
    "    source = 'a_text_filename',\n",
    "    target = 'b_text_filename',\n",
    "    edge_attr = ['comp_score'],\n",
    "    create_using = nx.DiGraph)\n",
    "                            \n",
    "                            "
   ]
  },
  {
   "cell_type": "code",
   "execution_count": 19,
   "metadata": {
    "execution": {
     "iopub.execute_input": "2024-05-01T14:39:47.354348Z",
     "iopub.status.busy": "2024-05-01T14:39:47.353882Z",
     "iopub.status.idle": "2024-05-01T14:39:47.360195Z",
     "shell.execute_reply": "2024-05-01T14:39:47.358981Z",
     "shell.execute_reply.started": "2024-05-01T14:39:47.354322Z"
    }
   },
   "outputs": [
    {
     "data": {
      "text/plain": [
       "<networkx.classes.digraph.DiGraph at 0x33886efd0>"
      ]
     },
     "execution_count": 19,
     "metadata": {},
     "output_type": "execute_result"
    }
   ],
   "source": [
    "G"
   ]
  },
  {
   "cell_type": "code",
   "execution_count": 20,
   "metadata": {
    "execution": {
     "iopub.execute_input": "2024-05-01T14:39:50.943289Z",
     "iopub.status.busy": "2024-05-01T14:39:50.942829Z",
     "iopub.status.idle": "2024-05-01T14:39:50.947596Z",
     "shell.execute_reply": "2024-05-01T14:39:50.946086Z",
     "shell.execute_reply.started": "2024-05-01T14:39:50.943262Z"
    }
   },
   "outputs": [],
   "source": [
    "TEXT_FONT_SIZE = 8"
   ]
  },
  {
   "cell_type": "code",
   "execution_count": 21,
   "metadata": {
    "execution": {
     "iopub.execute_input": "2024-05-01T14:39:52.822817Z",
     "iopub.status.busy": "2024-05-01T14:39:52.822319Z",
     "iopub.status.idle": "2024-05-01T14:40:02.672957Z",
     "shell.execute_reply": "2024-05-01T14:40:02.672674Z",
     "shell.execute_reply.started": "2024-05-01T14:39:52.822789Z"
    }
   },
   "outputs": [
    {
     "data": {
      "image/png": "[encoded data removed]",
      "text/plain": [
       "<Figure size 640x480 with 1 Axes>"
      ]
     },
     "metadata": {},
     "output_type": "display_data"
    }
   ],
   "source": [
    "# Position nodes using Fruchterman-Reingold force-directed algorithm\n",
    "pos = nx.spring_layout(G)\n",
    "\n",
    " # Draw nodes with labels\n",
    "nx.draw(G, width=1, node_size=500, node_color='salmon', with_labels=True)\n",
    "# Draw edges with arrows and labels\n",
    "edge_labels = nx.get_edge_attributes(G, 'comp_score')\n",
    "_ = nx.draw_networkx_edge_labels(G, pos, edge_labels=edge_labels, font_color='blue', font_size=TEXT_FONT_SIZE)\n"
   ]
  },
  {
   "cell_type": "code",
   "execution_count": 22,
   "metadata": {
    "execution": {
     "iopub.execute_input": "2024-05-01T14:40:19.858057Z",
     "iopub.status.busy": "2024-05-01T14:40:19.857225Z",
     "iopub.status.idle": "2024-05-01T14:40:21.584533Z",
     "shell.execute_reply": "2024-05-01T14:40:21.584191Z",
     "shell.execute_reply.started": "2024-05-01T14:40:19.858030Z"
    }
   },
   "outputs": [],
   "source": [
    "C = CytoscapeWidget()\n",
    "#C.set_layout(name='cola')\n",
    "C.set_layout(name='dagre', rankDir='LR', spacingFactor=3)\n",
    "C.graph.add_graph_from_networkx(G, directed=True)\n"
   ]
  },
  {
   "cell_type": "code",
   "execution_count": 23,
   "metadata": {
    "execution": {
     "iopub.execute_input": "2024-05-01T14:40:28.849239Z",
     "iopub.status.busy": "2024-05-01T14:40:28.848729Z",
     "iopub.status.idle": "2024-05-01T14:40:28.860536Z",
     "shell.execute_reply": "2024-05-01T14:40:28.859558Z",
     "shell.execute_reply.started": "2024-05-01T14:40:28.849211Z"
    }
   },
   "outputs": [
    {
     "name": "stdout",
     "output_type": "stream",
     "text": [
      "[{'selector': 'node',\n",
      "  'style': {'background-color': 'salmon',\n",
      "            'font-family': 'helvetica',\n",
      "            'font-size': '8px',\n",
      "            'label': 'data(id)'}},\n",
      " {'selector': 'edge',\n",
      "  'style': {'color': 'blue',\n",
      "            'font-family': 'helvetica',\n",
      "            'font-size': '8px',\n",
      "            'label': 'data(comp_score)',\n",
      "            'line-color': 'black',\n",
      "            'width': 'mapData(comp_score, 0.913, 0.94, 1, 10)'}},\n",
      " {'selector': 'edge.directed',\n",
      "  'style': {'curve-style': 'bezier',\n",
      "            'target-arrow-color': 'black',\n",
      "            'target-arrow-shape': 'triangle'}},\n",
      " {'selector': 'edge[comp_score>0.92]', 'style': {'line-color': 'red'}}]\n"
     ]
    }
   ],
   "source": [
    "#this is so we can programmatically edit and choose variables for the graph\n",
    "\n",
    "def build_style(color_threshold):\n",
    "    return [\n",
    "        {\n",
    "             'selector': 'node',\n",
    "             'style': {\n",
    "                 'background-color': 'salmon',\n",
    "                 'font-family': 'helvetica',\n",
    "                 'font-size': f\"{TEXT_FONT_SIZE}px\",\n",
    "                 'label': 'data(id)'\n",
    "             }\n",
    "        },\n",
    "        {\n",
    "             'selector': 'edge',\n",
    "             'style': {\n",
    "                 'line-color': 'black',\n",
    "                 'font-family': 'helvetica',\n",
    "                 'font-size': f\"{TEXT_FONT_SIZE}px\",\n",
    "                 'color': 'blue',\n",
    "                 'label': 'data(comp_score)',\n",
    "                'width': f\"mapData(comp_score, {min_comp_score}, {max_comp_score}, 1, 10)\"\n",
    "                 #'width': '10px',\n",
    "             }\n",
    "        },\n",
    "        {\n",
    "            \"selector\": \"edge.directed\",\n",
    "            \"style\": {\n",
    "                \"curve-style\": \"bezier\",\n",
    "                \"target-arrow-shape\": \"triangle\",\n",
    "                \"target-arrow-color\": \"black\",\n",
    "            }\n",
    "        }, \n",
    "        {\n",
    "            \"selector\": f\"edge[comp_score>{color_threshold}]\",\n",
    "            \"style\": {\n",
    "                \"line-color\": \"red\",\n",
    "            }\n",
    "        },\n",
    "    ]\n",
    "style = build_style(0.92)\n",
    "pprint(style)\n",
    "C.set_style(style)"
   ]
  },
  {
   "cell_type": "code",
   "execution_count": 78,
   "metadata": {
    "execution": {
     "iopub.execute_input": "2024-05-01T15:05:32.764148Z",
     "iopub.status.busy": "2024-05-01T15:05:32.763689Z",
     "iopub.status.idle": "2024-05-01T15:05:32.776062Z",
     "shell.execute_reply": "2024-05-01T15:05:32.775264Z",
     "shell.execute_reply.started": "2024-05-01T15:05:32.764123Z"
    }
   },
   "outputs": [
    {
     "data": {
      "application/vnd.jupyter.widget-view+json": {
       "model_id": "f3c651eb9a674b5289bd7328ea6d4f7d",
       "version_major": 2,
       "version_minor": 0
      },
      "text/plain": [
       "Label(value='The slider value is in its initial position.')"
      ]
     },
     "metadata": {},
     "output_type": "display_data"
    },
    {
     "data": {
      "application/vnd.jupyter.widget-view+json": {
       "model_id": "bed82ab1fab84312aa559c1d5e93e016",
       "version_major": 2,
       "version_minor": 0
      },
      "text/plain": [
       "IntSlider(value=90, continuous_update=False, description='Test:', min=90)"
      ]
     },
     "metadata": {},
     "output_type": "display_data"
    }
   ],
   "source": [
    "#make slider\n",
    "\n",
    "caption = widgets.Label(value='The slider value is in its initial position.')\n",
    "\n",
    "slider = widgets.IntSlider(\n",
    "    value=90,\n",
    "    min=90,\n",
    "    max=100,\n",
    "    step=1,\n",
    "    description='Test:',\n",
    "    disabled=False,\n",
    "    continuous_update=False,\n",
    "    orientation='horizontal',\n",
    "    readout=True,\n",
    "    readout_format='d'\n",
    ")\n",
    "def handle_slider_change(change):\n",
    "    color_threshold = change.new / 100\n",
    "    caption.value = f\"The slider value is: {color_threshold}\"\n",
    "    style = build_style(color_threshold=color_threshold)\n",
    "    C.set_style(style)\n",
    "    \n",
    "slider.observe(handle_slider_change, names='value')\n",
    "display(caption, slider)"
   ]
  },
  {
   "cell_type": "code",
   "execution_count": 79,
   "metadata": {
    "execution": {
     "iopub.execute_input": "2024-05-01T15:05:33.481698Z",
     "iopub.status.busy": "2024-05-01T15:05:33.481188Z",
     "iopub.status.idle": "2024-05-01T15:05:33.486573Z",
     "shell.execute_reply": "2024-05-01T15:05:33.485814Z",
     "shell.execute_reply.started": "2024-05-01T15:05:33.481656Z"
    }
   },
   "outputs": [
    {
     "name": "stdout",
     "output_type": "stream",
     "text": [
      "90\n"
     ]
    }
   ],
   "source": [
    "pprint(slider.value)\n"
   ]
  },
  {
   "cell_type": "code",
   "execution_count": 27,
   "metadata": {
    "execution": {
     "iopub.execute_input": "2024-05-01T14:40:54.607785Z",
     "iopub.status.busy": "2024-05-01T14:40:54.607081Z",
     "iopub.status.idle": "2024-05-01T14:40:54.651116Z",
     "shell.execute_reply": "2024-05-01T14:40:54.650454Z",
     "shell.execute_reply.started": "2024-05-01T14:40:54.607757Z"
    }
   },
   "outputs": [
    {
     "data": {
      "application/vnd.jupyter.widget-view+json": {
       "model_id": "c5669e651e764670a89945624d419760",
       "version_major": 2,
       "version_minor": 0
      },
      "text/plain": [
       "CytoscapeWidget(cytoscape_layout={'name': 'dagre', 'rankDir': 'LR', 'spacingFactor': 3}, cytoscape_style=[{'se…"
      ]
     },
     "execution_count": 27,
     "metadata": {},
     "output_type": "execute_result"
    }
   ],
   "source": [
    "C"
   ]
  },
  {
   "cell_type": "code",
   "execution_count": null,
   "metadata": {},
   "outputs": [],
   "source": []
  },
  {
   "cell_type": "code",
   "execution_count": null,
   "metadata": {},
   "outputs": [],
   "source": []
  }
 ],
 "metadata": {
  "kernelspec": {
   "display_name": "Python 3 (ipykernel)",
   "language": "python",
   "name": "python3"
  },
  "language_info": {
   "codemirror_mode": {
    "name": "ipython",
    "version": 3
   },
   "file_extension": ".py",
   "mimetype": "text/x-python",
   "name": "python",
   "nbconvert_exporter": "python",
   "pygments_lexer": "ipython3",
   "version": "3.11.7"
  }
 },
 "nbformat": 4,
 "nbformat_minor": 4
}
