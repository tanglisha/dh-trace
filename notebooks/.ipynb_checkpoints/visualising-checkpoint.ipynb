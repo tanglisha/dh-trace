{
 "cells": [
  {
   "cell_type": "markdown",
   "metadata": {},
   "source": [
    "# Begin visualisations"
   ]
  },
  {
   "cell_type": "code",
   "execution_count": 35,
   "metadata": {},
   "outputs": [],
   "source": [
    "from pathlib import Path\n",
    "import pandas as pd\n",
    "import sqlite3"
   ]
  },
  {
   "cell_type": "code",
   "execution_count": 36,
   "metadata": {},
   "outputs": [
    {
     "data": {
      "text/plain": [
       "PosixPath('..')"
      ]
     },
     "execution_count": 36,
     "metadata": {},
     "output_type": "execute_result"
    }
   ],
   "source": [
    "working = Path('..')\n",
    "working"
   ]
  },
  {
   "cell_type": "code",
   "execution_count": 37,
   "metadata": {},
   "outputs": [
    {
     "name": "stdout",
     "output_type": "stream",
     "text": [
      "/Users/tarah/Library/Mobile Documents/com~apple~CloudDocs/ONGOING-Oxford/OxfordTree/oxford_uni/dh-trace/notebooks\n"
     ]
    }
   ],
   "source": [
    "!pwd"
   ]
  },
  {
   "cell_type": "code",
   "execution_count": 38,
   "metadata": {},
   "outputs": [
    {
     "name": "stdout",
     "output_type": "stream",
     "text": [
      "LICENSE                    load_hapaxes.py\n",
      "Project History.pdf        load_jaccard.py\n",
      "README.md                  load_ngram_intersects.py\n",
      "\u001b[34m__pycache__\u001b[m\u001b[m                load_ngrams.py\n",
      "\u001b[34march\u001b[m\u001b[m                       load_relationships.py\n",
      "authors.txt                make_3d_plot.py\n",
      "auto_author_prediction.py  make_auto_scatterplot.py\n",
      "\u001b[31mbegin.sh\u001b[m\u001b[m                   make_confusion.py\n",
      "\u001b[34mcleaning_splitting_scripts\u001b[m\u001b[m make_dash.py\n",
      "database_ops.py            make_histogram.py\n",
      "\u001b[34mdh-trace-venv\u001b[m\u001b[m              make_jumbo_dash.py\n",
      "diagrams.ipynb             make_lines.py\n",
      "do_svm.py                  \u001b[34mnotebooks\u001b[m\u001b[m\n",
      "\u001b[31mdo_viz.sh\u001b[m\u001b[m                  poetry.lock\n",
      "\u001b[34mexplore\u001b[m\u001b[m                    predict_ops.py\n",
      "hapaxes_1tM.py             \u001b[34mprojects\u001b[m\u001b[m\n",
      "init_db.py                 pyproject.toml\n",
      "\u001b[34mjan24\u001b[m\u001b[m                      requirements.txt\n",
      "load_alignments.py         show_previous_averages.py\n",
      "load_authors_and_texts.py  util.py\n",
      "load_hapax_intersects.py   \u001b[34mutils\u001b[m\u001b[m\n"
     ]
    }
   ],
   "source": [
    "!ls $working"
   ]
  },
  {
   "cell_type": "code",
   "execution_count": 39,
   "metadata": {},
   "outputs": [],
   "source": [
    "things = working.glob('*')"
   ]
  },
  {
   "cell_type": "code",
   "execution_count": 40,
   "metadata": {},
   "outputs": [
    {
     "name": "stdout",
     "output_type": "stream",
     "text": [
      "../make_dash.py\n",
      "../database_ops.py\n",
      "../diagrams.ipynb\n",
      "../.DS_Store\n",
      "../LICENSE\n",
      "../requirements.txt\n",
      "../cleaning_splitting_scripts\n",
      "../make_lines.py\n",
      "../util.py\n",
      "../auto_author_prediction.py\n",
      "../make_confusion.py\n",
      "../projects\n",
      "../pyproject.toml\n",
      "../predict_ops.py\n",
      "../load_jaccard.py\n",
      "../do_viz.sh\n",
      "../utils\n",
      "../__pycache__\n",
      "../load_hapaxes.py\n",
      "../Project History.pdf\n",
      "../jan24\n",
      "../explore\n",
      "../README.md\n",
      "../load_ngram_intersects.py\n",
      "../load_hapax_intersects.py\n",
      "../load_ngrams.py\n",
      "../.gitignore\n",
      "../arch\n",
      "../load_alignments.py\n",
      "../make_jumbo_dash.py\n",
      "../begin.sh\n",
      "../load_authors_and_texts.py\n",
      "../hapaxes_1tM.py\n",
      "../make_auto_scatterplot.py\n",
      "../show_previous_averages.py\n",
      "../make_3d_plot.py\n",
      "../poetry.lock\n",
      "../.git\n",
      "../.vscode\n",
      "../load_relationships.py\n",
      "../authors.txt\n",
      "../dh-trace-venv\n",
      "../make_histogram.py\n",
      "../notebooks\n",
      "../do_svm.py\n",
      "../.current_project\n",
      "../init_db.py\n"
     ]
    },
    {
     "ename": "StopIteration",
     "evalue": "",
     "output_type": "error",
     "traceback": [
      "\u001b[0;31m---------------------------------------------------------------------------\u001b[0m",
      "\u001b[0;31mStopIteration\u001b[0m                             Traceback (most recent call last)",
      "Cell \u001b[0;32mIn[40], line 2\u001b[0m\n\u001b[1;32m      1\u001b[0m \u001b[38;5;28;01mwhile\u001b[39;00m \u001b[38;5;28;01mTrue\u001b[39;00m:\n\u001b[0;32m----> 2\u001b[0m     \u001b[38;5;28mprint\u001b[39m(\u001b[38;5;28mnext\u001b[39m(things))\n",
      "\u001b[0;31mStopIteration\u001b[0m: "
     ]
    }
   ],
   "source": [
    "while True:\n",
    "    print(next(things))"
   ]
  },
  {
   "cell_type": "code",
   "execution_count": 41,
   "metadata": {},
   "outputs": [],
   "source": [
    "project_name = 'sm-test'\n",
    "project_path = working / 'projects' / project_name"
   ]
  },
  {
   "cell_type": "code",
   "execution_count": 42,
   "metadata": {},
   "outputs": [
    {
     "data": {
      "text/plain": [
       "PosixPath('../projects/sm-test')"
      ]
     },
     "execution_count": 42,
     "metadata": {},
     "output_type": "execute_result"
    }
   ],
   "source": [
    "project_path"
   ]
  },
  {
   "cell_type": "code",
   "execution_count": 43,
   "metadata": {},
   "outputs": [
    {
     "data": {
      "text/plain": [
       "PosixPath('../projects/sm-test/db/sm-test.db')"
      ]
     },
     "execution_count": 43,
     "metadata": {},
     "output_type": "execute_result"
    }
   ],
   "source": [
    "db_path = project_path / 'db' / f'{project_name}.db'\n",
    "db_path"
   ]
  },
  {
   "cell_type": "code",
   "execution_count": 44,
   "metadata": {},
   "outputs": [
    {
     "data": {
      "text/plain": [
       "True"
      ]
     },
     "execution_count": 44,
     "metadata": {},
     "output_type": "execute_result"
    }
   ],
   "source": [
    "db_path.exists()"
   ]
  },
  {
   "cell_type": "code",
   "execution_count": 45,
   "metadata": {},
   "outputs": [],
   "source": [
    "QUERY = \"\"\"\n",
    "SELECT comp_score FROM calculations\n",
    "LIMIT 10\n",
    "\"\"\""
   ]
  },
  {
   "cell_type": "code",
   "execution_count": 46,
   "metadata": {},
   "outputs": [
    {
     "data": {
      "text/plain": [
       "'\\nSELECT comp_score FROM calculations\\nLIMIT 10\\n'"
      ]
     },
     "execution_count": 46,
     "metadata": {},
     "output_type": "execute_result"
    }
   ],
   "source": [
    "QUERY"
   ]
  },
  {
   "cell_type": "code",
   "execution_count": 48,
   "metadata": {},
   "outputs": [],
   "source": [
    "con = sqlite3.connect(db_path)"
   ]
  },
  {
   "cell_type": "code",
   "execution_count": 50,
   "metadata": {},
   "outputs": [],
   "source": [
    "df = pd.read_sql(QUERY, con)"
   ]
  },
  {
   "cell_type": "code",
   "execution_count": 51,
   "metadata": {},
   "outputs": [
    {
     "data": {
      "text/html": [
       "<div>\n",
       "<style scoped>\n",
       "    .dataframe tbody tr th:only-of-type {\n",
       "        vertical-align: middle;\n",
       "    }\n",
       "\n",
       "    .dataframe tbody tr th {\n",
       "        vertical-align: top;\n",
       "    }\n",
       "\n",
       "    .dataframe thead th {\n",
       "        text-align: right;\n",
       "    }\n",
       "</style>\n",
       "<table border=\"1\" class=\"dataframe\">\n",
       "  <thead>\n",
       "    <tr style=\"text-align: right;\">\n",
       "      <th></th>\n",
       "      <th>comp_score</th>\n",
       "    </tr>\n",
       "  </thead>\n",
       "  <tbody>\n",
       "    <tr>\n",
       "      <th>0</th>\n",
       "      <td>0.882777</td>\n",
       "    </tr>\n",
       "    <tr>\n",
       "      <th>1</th>\n",
       "      <td>0.882777</td>\n",
       "    </tr>\n",
       "    <tr>\n",
       "      <th>2</th>\n",
       "      <td>0.882777</td>\n",
       "    </tr>\n",
       "    <tr>\n",
       "      <th>3</th>\n",
       "      <td>0.882777</td>\n",
       "    </tr>\n",
       "    <tr>\n",
       "      <th>4</th>\n",
       "      <td>0.882777</td>\n",
       "    </tr>\n",
       "    <tr>\n",
       "      <th>5</th>\n",
       "      <td>0.882777</td>\n",
       "    </tr>\n",
       "    <tr>\n",
       "      <th>6</th>\n",
       "      <td>0.882777</td>\n",
       "    </tr>\n",
       "    <tr>\n",
       "      <th>7</th>\n",
       "      <td>0.882777</td>\n",
       "    </tr>\n",
       "    <tr>\n",
       "      <th>8</th>\n",
       "      <td>0.882777</td>\n",
       "    </tr>\n",
       "    <tr>\n",
       "      <th>9</th>\n",
       "      <td>0.882777</td>\n",
       "    </tr>\n",
       "  </tbody>\n",
       "</table>\n",
       "</div>"
      ],
      "text/plain": [
       "   comp_score\n",
       "0    0.882777\n",
       "1    0.882777\n",
       "2    0.882777\n",
       "3    0.882777\n",
       "4    0.882777\n",
       "5    0.882777\n",
       "6    0.882777\n",
       "7    0.882777\n",
       "8    0.882777\n",
       "9    0.882777"
      ]
     },
     "execution_count": 51,
     "metadata": {},
     "output_type": "execute_result"
    }
   ],
   "source": [
    "df"
   ]
  },
  {
   "cell_type": "code",
   "execution_count": null,
   "metadata": {},
   "outputs": [],
   "source": []
  }
 ],
 "metadata": {
  "kernelspec": {
   "display_name": "Python 3 (ipykernel)",
   "language": "python",
   "name": "python3"
  },
  "language_info": {
   "codemirror_mode": {
    "name": "ipython",
    "version": 3
   },
   "file_extension": ".py",
   "mimetype": "text/x-python",
   "name": "python",
   "nbconvert_exporter": "python",
   "pygments_lexer": "ipython3",
   "version": "3.11.7"
  }
 },
 "nbformat": 4,
 "nbformat_minor": 4
}
