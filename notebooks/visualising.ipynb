{
 "cells": [
  {
   "cell_type": "markdown",
   "metadata": {},
   "source": [
    "# Begin visualisations"
   ]
  },
  {
   "cell_type": "markdown",
   "metadata": {},
   "source": [
    " ## todo\n",
    "\n",
    " 1. Use Pickle or CSV to store values from dataframes so they don't have to be continuously regenerated. \n",
    " 1. Improve logistic regression by adding thresholds and finding the correct ones for same author.\n",
    " 1. Tighten the threshold window down to 1%. \n",
    " 1. Run the code against different authors. \n",
    " 1. Does the damn thing work?\n",
    " 1. Are graphs showing actual human behavior?\n",
    " 1. annotate edges in dataset\n",
    " 1. regenerate all data\n",
    " 1. document and lock sequence alignment version\n",
    " 1. fully remove and document removal of n-grams\n",
    " 1. display more easy to see\n",
    " 1. full dataset\n",
    " 1. moving to dissertation; initial check against tarah's dataset\n",
    " 1. do full relevant close re-reading"
   ]
  },
  {
   "cell_type": "code",
   "execution_count": 1,
   "metadata": {
    "execution": {
     "iopub.execute_input": "2024-05-01T15:11:32.443126Z",
     "iopub.status.busy": "2024-05-01T15:11:32.442493Z",
     "iopub.status.idle": "2024-05-01T15:11:33.443416Z",
     "shell.execute_reply": "2024-05-01T15:11:33.443083Z",
     "shell.execute_reply.started": "2024-05-01T15:11:32.443095Z"
    }
   },
   "outputs": [],
   "source": [
    "from pathlib import Path\n",
    "import pandas as pd\n",
    "import sqlite3\n",
    "import networkx as nx\n",
    "#import matplotlib.pyplot as plt\n",
    "from ipycytoscape import CytoscapeWidget\n",
    "from sqlite3 import OperationalError\n",
    "from contextlib import suppress\n",
    "import ipywidgets as widgets\n",
    "from pprint import pprint\n",
    "import py4cytoscape as p4c\n",
    "from sklearn.model_selection import train_test_split\n",
    "from sklearn.linear_model import LogisticRegression\n",
    "from sklearn.metrics import accuracy_score, confusion_matrix, classification_report, roc_curve\n",
    "from tqdm.notebook import tqdm\n",
    "import seaborn as sns\n",
    "from sklearn.preprocessing import StandardScaler\n",
    "from sklearn.utils import resample\n",
    "import matplotlib.pyplot as plt\n",
    "from multiprocessing import Pool, cpu_count\n",
    "import os\n",
    "\n",
    "\n",
    "\n"
   ]
  },
  {
   "cell_type": "code",
   "execution_count": 2,
   "metadata": {
    "execution": {
     "iopub.execute_input": "2024-05-01T15:11:33.444241Z",
     "iopub.status.busy": "2024-05-01T15:11:33.444097Z",
     "iopub.status.idle": "2024-05-01T15:11:33.447205Z",
     "shell.execute_reply": "2024-05-01T15:11:33.446735Z",
     "shell.execute_reply.started": "2024-05-01T15:11:33.444232Z"
    }
   },
   "outputs": [
    {
     "data": {
      "text/plain": [
       "PosixPath('..')"
      ]
     },
     "execution_count": 2,
     "metadata": {},
     "output_type": "execute_result"
    }
   ],
   "source": [
    "working = Path('..')\n",
    "working"
   ]
  },
  {
   "cell_type": "code",
   "execution_count": 3,
   "metadata": {
    "execution": {
     "iopub.execute_input": "2024-05-01T15:11:33.503467Z",
     "iopub.status.busy": "2024-05-01T15:11:33.503259Z",
     "iopub.status.idle": "2024-05-01T15:11:33.620880Z",
     "shell.execute_reply": "2024-05-01T15:11:33.620346Z",
     "shell.execute_reply.started": "2024-05-01T15:11:33.503448Z"
    }
   },
   "outputs": [
    {
     "name": "stdout",
     "output_type": "stream",
     "text": [
      "/Users/tarah/Library/Mobile Documents/com~apple~CloudDocs/ONGOING-Oxford/OxfordTree/oxford_uni/dh-trace/notebooks\n"
     ]
    }
   ],
   "source": [
    "!pwd"
   ]
  },
  {
   "cell_type": "code",
   "execution_count": 4,
   "metadata": {
    "execution": {
     "iopub.execute_input": "2024-05-01T15:11:34.435305Z",
     "iopub.status.busy": "2024-05-01T15:11:34.434891Z",
     "iopub.status.idle": "2024-05-01T15:11:34.570361Z",
     "shell.execute_reply": "2024-05-01T15:11:34.569692Z",
     "shell.execute_reply.started": "2024-05-01T15:11:34.435272Z"
    }
   },
   "outputs": [
    {
     "name": "stdout",
     "output_type": "stream",
     "text": [
      "LICENSE                    load_hapaxes.py\n",
      "Project History.pdf        load_jaccard.py\n",
      "README.md                  load_ngram_intersects.py\n",
      "\u001b[34m__pycache__\u001b[m\u001b[m                load_ngrams.py\n",
      "\u001b[34march\u001b[m\u001b[m                       load_relationships.py\n",
      "authors.txt                make_3d_plot.py\n",
      "auto_author_prediction.py  make_auto_scatterplot.py\n",
      "\u001b[31mbegin.sh\u001b[m\u001b[m                   make_confusion.py\n",
      "\u001b[34mcleaning_splitting_scripts\u001b[m\u001b[m make_dash.py\n",
      "\u001b[34mcytoscape-layouts\u001b[m\u001b[m          make_histogram.py\n",
      "database_ops.py            make_jumbo_dash.py\n",
      "\u001b[34mdh-trace-venv\u001b[m\u001b[m              make_lines.py\n",
      "diagrams.ipynb             \u001b[34mnotebooks\u001b[m\u001b[m\n",
      "do_svm.py                  poetry.lock\n",
      "\u001b[31mdo_viz.sh\u001b[m\u001b[m                  predict_ops.py\n",
      "\u001b[34mexplore\u001b[m\u001b[m                    \u001b[34mprojects\u001b[m\u001b[m\n",
      "hapaxes_1tM.py             pyproject.toml\n",
      "init_db.py                 requirements.txt\n",
      "\u001b[34mjan24\u001b[m\u001b[m                      show_previous_averages.py\n",
      "load_alignments.py         util.py\n",
      "load_authors_and_texts.py  \u001b[34mutils\u001b[m\u001b[m\n",
      "load_hapax_intersects.py\n"
     ]
    }
   ],
   "source": [
    "!ls $working"
   ]
  },
  {
   "cell_type": "code",
   "execution_count": 5,
   "metadata": {
    "execution": {
     "iopub.execute_input": "2024-05-01T15:11:34.908668Z",
     "iopub.status.busy": "2024-05-01T15:11:34.908249Z",
     "iopub.status.idle": "2024-05-01T15:11:34.912949Z",
     "shell.execute_reply": "2024-05-01T15:11:34.912005Z",
     "shell.execute_reply.started": "2024-05-01T15:11:34.908627Z"
    }
   },
   "outputs": [],
   "source": [
    "things = working.glob('*')"
   ]
  },
  {
   "cell_type": "code",
   "execution_count": 6,
   "metadata": {
    "execution": {
     "iopub.execute_input": "2024-05-01T15:11:35.257982Z",
     "iopub.status.busy": "2024-05-01T15:11:35.257664Z",
     "iopub.status.idle": "2024-05-01T15:11:35.262368Z",
     "shell.execute_reply": "2024-05-01T15:11:35.261876Z",
     "shell.execute_reply.started": "2024-05-01T15:11:35.257960Z"
    }
   },
   "outputs": [
    {
     "name": "stdout",
     "output_type": "stream",
     "text": [
      "../make_dash.py\n",
      "../database_ops.py\n",
      "../diagrams.ipynb\n",
      "../.DS_Store\n",
      "../LICENSE\n",
      "../requirements.txt\n",
      "../cleaning_splitting_scripts\n",
      "../make_lines.py\n",
      "../util.py\n",
      "../auto_author_prediction.py\n",
      "../make_confusion.py\n",
      "../projects\n",
      "../pyproject.toml\n",
      "../predict_ops.py\n",
      "../load_jaccard.py\n",
      "../do_viz.sh\n",
      "../utils\n",
      "../cytoscape-layouts\n",
      "../__pycache__\n",
      "../load_hapaxes.py\n",
      "../Project History.pdf\n",
      "../jan24\n",
      "../explore\n",
      "../README.md\n",
      "../load_ngram_intersects.py\n",
      "../load_hapax_intersects.py\n",
      "../load_ngrams.py\n",
      "../.gitignore\n",
      "../arch\n",
      "../load_alignments.py\n",
      "../make_jumbo_dash.py\n",
      "../begin.sh\n",
      "../load_authors_and_texts.py\n",
      "../hapaxes_1tM.py\n",
      "../make_auto_scatterplot.py\n",
      "../show_previous_averages.py\n",
      "../make_3d_plot.py\n",
      "../poetry.lock\n",
      "../.git\n",
      "../.vscode\n",
      "../load_relationships.py\n",
      "../authors.txt\n",
      "../dh-trace-venv\n",
      "../make_histogram.py\n",
      "../notebooks\n",
      "../do_svm.py\n",
      "../.current_project\n",
      "../init_db.py\n"
     ]
    }
   ],
   "source": [
    "for thing in things:\n",
    "    print(thing)"
   ]
  },
  {
   "cell_type": "code",
   "execution_count": 7,
   "metadata": {
    "execution": {
     "iopub.execute_input": "2024-05-01T15:11:35.564842Z",
     "iopub.status.busy": "2024-05-01T15:11:35.564410Z",
     "iopub.status.idle": "2024-05-01T15:11:35.568461Z",
     "shell.execute_reply": "2024-05-01T15:11:35.567841Z",
     "shell.execute_reply.started": "2024-05-01T15:11:35.564817Z"
    }
   },
   "outputs": [],
   "source": [
    "project_name = 'eltec-100'\n",
    "project_path = working / 'projects' / project_name"
   ]
  },
  {
   "cell_type": "code",
   "execution_count": 8,
   "metadata": {
    "execution": {
     "iopub.execute_input": "2024-05-01T15:11:35.923430Z",
     "iopub.status.busy": "2024-05-01T15:11:35.923045Z",
     "iopub.status.idle": "2024-05-01T15:11:35.928703Z",
     "shell.execute_reply": "2024-05-01T15:11:35.928113Z",
     "shell.execute_reply.started": "2024-05-01T15:11:35.923403Z"
    }
   },
   "outputs": [
    {
     "data": {
      "text/plain": [
       "PosixPath('../projects/eltec-100')"
      ]
     },
     "execution_count": 8,
     "metadata": {},
     "output_type": "execute_result"
    }
   ],
   "source": [
    "project_path"
   ]
  },
  {
   "cell_type": "code",
   "execution_count": 9,
   "metadata": {
    "execution": {
     "iopub.execute_input": "2024-05-01T15:11:36.350146Z",
     "iopub.status.busy": "2024-05-01T15:11:36.349826Z",
     "iopub.status.idle": "2024-05-01T15:11:36.354400Z",
     "shell.execute_reply": "2024-05-01T15:11:36.353656Z",
     "shell.execute_reply.started": "2024-05-01T15:11:36.350118Z"
    }
   },
   "outputs": [
    {
     "data": {
      "text/plain": [
       "PosixPath('../projects/eltec-100/db/svm.db')"
      ]
     },
     "execution_count": 9,
     "metadata": {},
     "output_type": "execute_result"
    }
   ],
   "source": [
    "db_path = project_path / 'db' / f'{project_name}.db'\n",
    "svm_db_path = project_path / 'db' / 'svm.db'\n",
    "db_path\n",
    "svm_db_path"
   ]
  },
  {
   "cell_type": "code",
   "execution_count": 10,
   "metadata": {
    "execution": {
     "iopub.execute_input": "2024-05-01T15:11:36.640474Z",
     "iopub.status.busy": "2024-05-01T15:11:36.640122Z",
     "iopub.status.idle": "2024-05-01T15:11:36.644501Z",
     "shell.execute_reply": "2024-05-01T15:11:36.643965Z",
     "shell.execute_reply.started": "2024-05-01T15:11:36.640451Z"
    }
   },
   "outputs": [
    {
     "data": {
      "text/plain": [
       "True"
      ]
     },
     "execution_count": 10,
     "metadata": {},
     "output_type": "execute_result"
    }
   ],
   "source": [
    "db_path.exists()"
   ]
  },
  {
   "cell_type": "code",
   "execution_count": 11,
   "metadata": {
    "execution": {
     "iopub.execute_input": "2024-05-01T15:11:36.946367Z",
     "iopub.status.busy": "2024-05-01T15:11:36.946048Z",
     "iopub.status.idle": "2024-05-01T15:11:36.953343Z",
     "shell.execute_reply": "2024-05-01T15:11:36.952070Z",
     "shell.execute_reply.started": "2024-05-01T15:11:36.946346Z"
    }
   },
   "outputs": [],
   "source": [
    "# Define the EDGES_QUERY template with placeholders for weight_id and threshold\n",
    "EDGES_QUERY_TEMPLATE = \"\"\"\n",
    "WITH RankedResults AS (\n",
    "    SELECT \n",
    "        calculation.pair_id,\n",
    "        round(calculation.comp_score, 3) as comp_score,\n",
    "        calculation.threshold,\n",
    "        weight.weight_id,\n",
    "        weight.hap_weight,\n",
    "        weight.al_weight,\n",
    "        weight.svm_weight,\n",
    "        combined_jaccard.hap_jac_dis,\n",
    "        combined_jaccard.hap_jac_sim,\n",
    "        combined_jaccard.al_jac_dis,\n",
    "        combined_jaccard.al_jac_sim,\n",
    "        text_pair.text_a AS a_text_id,\n",
    "        text_pair.text_b AS b_text_id,\n",
    "        text_a.source_filename AS a_text_filename,\n",
    "        text_b.source_filename AS b_text_filename,\n",
    "        text_a.chapter_num AS a_chap_num,\n",
    "        text_b.chapter_num AS b_chap_num,\n",
    "        dir_a.id AS a_work_dir_id,\n",
    "        dir_b.id AS b_work_dir_id,\n",
    "        dir_a.dir AS a_work,\n",
    "        dir_b.dir AS b_work,\n",
    "        text_a.author_id AS a_author_id,\n",
    "        text_b.author_id AS b_author_id,\n",
    "        text_a.short_name_for_svm AS a_short,\n",
    "        text_b.short_name_for_svm AS b_short,\n",
    "        calculation.same_author,\n",
    "        author_a.author_name AS a_author,\n",
    "        author_b.author_name AS b_author,\n",
    "        ROW_NUMBER() OVER (PARTITION BY weight.weight_id, calculation.threshold ORDER BY calculation.pair_id) as row_num,\n",
    "        RANDOM() as rand_val\n",
    "    FROM calculations AS calculation\n",
    "    JOIN text_pairs AS text_pair ON text_pair.id = calculation.pair_id\n",
    "    JOIN weights AS weight ON weight.weight_id = calculation.weight_id\n",
    "    JOIN all_texts AS text_a ON text_a.text_id = text_pair.text_a\n",
    "    JOIN all_texts AS text_b ON text_b.text_id = text_pair.text_b\n",
    "    JOIN dirs AS dir_a ON dir_a.id = text_a.dir\n",
    "    JOIN dirs AS dir_b ON dir_b.id = text_b.dir\n",
    "    JOIN authors AS author_a ON author_a.id = text_a.author_id\n",
    "    JOIN authors AS author_b ON author_b.id = text_b.author_id\n",
    "    JOIN combined_jaccard ON combined_jaccard.pair_id = calculation.pair_id\n",
    "    WHERE weight.weight_id = {weight_id}\n",
    "      AND calculation.threshold = {threshold}\n",
    "      AND dir_a.id <> dir_b.id\n",
    "    ORDER BY rand_val\n",
    ")\n",
    "SELECT *\n",
    "FROM RankedResults\n",
    "ORDER BY weight_id, pair_id\n",
    "\"\"\""
   ]
  },
  {
   "cell_type": "code",
   "execution_count": 12,
   "metadata": {
    "execution": {
     "iopub.execute_input": "2024-05-01T15:11:37.252000Z",
     "iopub.status.busy": "2024-05-01T15:11:37.251665Z",
     "iopub.status.idle": "2024-05-01T15:11:37.256647Z",
     "shell.execute_reply": "2024-05-01T15:11:37.255866Z",
     "shell.execute_reply.started": "2024-05-01T15:11:37.251980Z"
    }
   },
   "outputs": [
    {
     "data": {
      "text/plain": [
       "'\\nWITH RankedResults AS (\\n    SELECT \\n        calculation.pair_id,\\n        round(calculation.comp_score, 3) as comp_score,\\n        calculation.threshold,\\n        weight.weight_id,\\n        weight.hap_weight,\\n        weight.al_weight,\\n        weight.svm_weight,\\n        combined_jaccard.hap_jac_dis,\\n        combined_jaccard.hap_jac_sim,\\n        combined_jaccard.al_jac_dis,\\n        combined_jaccard.al_jac_sim,\\n        text_pair.text_a AS a_text_id,\\n        text_pair.text_b AS b_text_id,\\n        text_a.source_filename AS a_text_filename,\\n        text_b.source_filename AS b_text_filename,\\n        text_a.chapter_num AS a_chap_num,\\n        text_b.chapter_num AS b_chap_num,\\n        dir_a.id AS a_work_dir_id,\\n        dir_b.id AS b_work_dir_id,\\n        dir_a.dir AS a_work,\\n        dir_b.dir AS b_work,\\n        text_a.author_id AS a_author_id,\\n        text_b.author_id AS b_author_id,\\n        text_a.short_name_for_svm AS a_short,\\n        text_b.short_name_for_svm AS b_short,\\n        calculation.same_author,\\n        author_a.author_name AS a_author,\\n        author_b.author_name AS b_author,\\n        ROW_NUMBER() OVER (PARTITION BY weight.weight_id, calculation.threshold ORDER BY calculation.pair_id) as row_num,\\n        RANDOM() as rand_val\\n    FROM calculations AS calculation\\n    JOIN text_pairs AS text_pair ON text_pair.id = calculation.pair_id\\n    JOIN weights AS weight ON weight.weight_id = calculation.weight_id\\n    JOIN all_texts AS text_a ON text_a.text_id = text_pair.text_a\\n    JOIN all_texts AS text_b ON text_b.text_id = text_pair.text_b\\n    JOIN dirs AS dir_a ON dir_a.id = text_a.dir\\n    JOIN dirs AS dir_b ON dir_b.id = text_b.dir\\n    JOIN authors AS author_a ON author_a.id = text_a.author_id\\n    JOIN authors AS author_b ON author_b.id = text_b.author_id\\n    JOIN combined_jaccard ON combined_jaccard.pair_id = calculation.pair_id\\n    WHERE weight.weight_id = {weight_id}\\n      AND calculation.threshold = {threshold}\\n      AND dir_a.id <> dir_b.id\\n    ORDER BY rand_val\\n)\\nSELECT *\\nFROM RankedResults\\nORDER BY weight_id, pair_id\\n'"
      ]
     },
     "execution_count": 12,
     "metadata": {},
     "output_type": "execute_result"
    }
   ],
   "source": [
    "EDGES_QUERY_TEMPLATE"
   ]
  },
  {
   "cell_type": "code",
   "execution_count": 13,
   "metadata": {
    "execution": {
     "iopub.execute_input": "2024-05-01T15:11:37.651568Z",
     "iopub.status.busy": "2024-05-01T15:11:37.651281Z",
     "iopub.status.idle": "2024-05-01T15:11:37.655242Z",
     "shell.execute_reply": "2024-05-01T15:11:37.654737Z",
     "shell.execute_reply.started": "2024-05-01T15:11:37.651549Z"
    }
   },
   "outputs": [],
   "source": [
    "con = sqlite3.connect(db_path)\n",
    "# Cleanup any edges that might already exist.\n",
    "con.execute(\"DROP TABLE IF EXISTS edges\")\n",
    "con.commit()\n",
    "con.execute(\"DROP VIEW IF EXISTS edges\")\n",
    "con.commit()\n"
   ]
  },
  {
   "cell_type": "markdown",
   "metadata": {},
   "source": [
    "Now, we're going to create the initial dataframe to work with that pulls everything but the SVM values into a CSV to store the dataframe for rapidity of use."
   ]
  },
  {
   "cell_type": "code",
   "execution_count": 14,
   "metadata": {
    "execution": {
     "iopub.execute_input": "2024-05-01T15:11:38.058632Z",
     "iopub.status.busy": "2024-05-01T15:11:38.058086Z",
     "iopub.status.idle": "2024-05-01T15:11:38.063769Z",
     "shell.execute_reply": "2024-05-01T15:11:38.062844Z",
     "shell.execute_reply.started": "2024-05-01T15:11:38.058604Z"
    }
   },
   "outputs": [
    {
     "name": "stdout",
     "output_type": "stream",
     "text": [
      "Loaded DataFrame from CSV file.\n"
     ]
    }
   ],
   "source": [
    "# Define the path to the CSV file\n",
    "csv_file_path = project_path / f'{project_name}-initial.csv'\n",
    "\n",
    "# Check if the CSV file already exists\n",
    "if os.path.exists(csv_file_path):\n",
    "    # Load the DataFrame from the CSV file\n",
    "    edges_df = pd.read_csv(csv_file_path)\n",
    "    print(\"Loaded DataFrame from CSV file.\")\n",
    "else:\n",
    "    # Create an in-memory database and load the necessary tables\n",
    "    memory_con = sqlite3.connect(':memory:')\n",
    "    with memory_con:\n",
    "        con.backup(memory_con)\n",
    "\n",
    "    # Fetch unique weight_ids from the database\n",
    "    weight_ids_query = \"SELECT DISTINCT weight_id FROM weights\"\n",
    "    weight_ids_df = pd.read_sql(weight_ids_query, memory_con)\n",
    "    weight_ids = weight_ids_df['weight_id'].tolist()\n",
    "\n",
    "    # Fetch unique thresholds from the database\n",
    "    thresholds_query = \"SELECT DISTINCT threshold FROM calculations\"\n",
    "    thresholds_df = pd.read_sql(thresholds_query, memory_con)\n",
    "    thresholds = thresholds_df['threshold'].tolist()\n",
    "\n",
    "    # Create a list of tuples combining weights and thresholds\n",
    "    combinations = [(weight_id, threshold) for weight_id in weight_ids for threshold in thresholds]\n",
    "    print(\"Weight/Threshold Combos. Can delete: \", combinations)\n",
    "\n",
    "    # Prepare to collect data for the edges DataFrame\n",
    "    edges_data = []\n",
    "\n",
    "    total_iterations = len(weight_ids) * len(thresholds)\n",
    "\n",
    "    with tqdm(total=total_iterations, desc=\"Processing\") as pbar:\n",
    "        for weight_id, threshold in combinations:\n",
    "            # Format the query with the current weight_id and threshold\n",
    "            formatted_query = EDGES_QUERY_TEMPLATE.format(weight_id=weight_id, threshold=threshold)\n",
    "                \n",
    "            # Print the formatted query to check for syntax issues\n",
    "            print(formatted_query)\n",
    "            \n",
    "            df = pd.read_sql(formatted_query, memory_con)\n",
    "            edges_data.append(df)\n",
    "            \n",
    "            pbar.update(1)\n",
    "\n",
    "    # Concatenate all the DataFrames into one\n",
    "    edges_df = pd.concat(edges_data, ignore_index=True)\n",
    "\n",
    "    # Save the final DataFrame to a CSV file\n",
    "    edges_df.to_csv(csv_file_path, index=False)\n",
    "    print(f\"Saved DataFrame to {csv_file_path}\")\n",
    "\n",
    "    # Close the database connections\n",
    "    memory_con.close()\n",
    "    con.close()\n",
    "\n",
    "# Display the final DataFrame\n",
    "#print(edges_df.sample(10))\n"
   ]
  },
  {
   "cell_type": "code",
   "execution_count": 15,
   "metadata": {},
   "outputs": [
    {
     "name": "stdout",
     "output_type": "stream",
     "text": [
      "Loaded DataFrame with SVM scores from CSV file.\n"
     ]
    }
   ],
   "source": [
    "# Define the path to the CSV file for edges_df with SVM scores\n",
    "svm_csv_file_path = project_path / f'{project_name}-with-svm.csv'\n",
    "\n",
    "# Check if the CSV file already exists\n",
    "if os.path.exists(svm_csv_file_path):\n",
    "    # Load the DataFrame from the CSV file\n",
    "    edges_df = pd.read_csv(svm_csv_file_path)\n",
    "    print(\"Loaded DataFrame with SVM scores from CSV file.\")\n",
    "else:\n",
    "    # Connect to the SVM database and create an in-memory database\n",
    "    svm_con = sqlite3.connect(svm_db_path)\n",
    "    memory_con = sqlite3.connect(':memory:')\n",
    "    with memory_con:\n",
    "        svm_con.backup(memory_con)\n",
    "    memory_con.execute(\"CREATE INDEX nov_num_idx ON chapter_assessments(novel, number);\")\n",
    "\n",
    "    def get_svm_score(a_short, a_chap_num, b_short):\n",
    "        query = f\"\"\"\n",
    "        SELECT {b_short} AS svm_score\n",
    "        FROM chapter_assessments\n",
    "        WHERE novel = ?\n",
    "        AND number = ?\n",
    "        \"\"\"\n",
    "        \n",
    "        result = pd.read_sql(query, memory_con, params=(a_short, a_chap_num))\n",
    "        \n",
    "        if not result.empty:\n",
    "            return result['svm_score'].iloc[0]\n",
    "        return None\n",
    "\n",
    "    # Initialize tqdm to monitor progress\n",
    "    tqdm.pandas(desc=\"Calculating SVM Scores\")\n",
    "\n",
    "    # Apply the function to each row in edges_df\n",
    "    edges_df['svm_score'] = edges_df.progress_apply(lambda row: get_svm_score(row['a_short'], row['a_chap_num'], row['b_short']), axis=1)\n",
    "\n",
    "    # Save the final DataFrame to a CSV file\n",
    "    edges_df.to_csv(svm_csv_file_path, index=False)\n",
    "    print(f\"Saved DataFrame with SVM scores to {svm_csv_file_path}\")\n",
    "\n",
    "    # Close the connection to svm.db and memory con\n",
    "    memory_con.close()\n",
    "    svm_con.close()\n",
    "\n",
    "# Display the final DataFrame with SVM scores\n",
    "#print(edges_df.sample(10))"
   ]
  },
  {
   "cell_type": "markdown",
   "metadata": {},
   "source": [
    "The below cell is a quick check on columns; can be commented out or not as desired."
   ]
  },
  {
   "cell_type": "code",
   "execution_count": 16,
   "metadata": {
    "execution": {
     "iopub.execute_input": "2024-05-01T15:11:38.817091Z",
     "iopub.status.busy": "2024-05-01T15:11:38.816572Z",
     "iopub.status.idle": "2024-05-01T15:11:44.636785Z",
     "shell.execute_reply": "2024-05-01T15:11:44.636532Z",
     "shell.execute_reply.started": "2024-05-01T15:11:38.817070Z"
    }
   },
   "outputs": [],
   "source": [
    "# #edges_df = pd.read_sql(df_query, con)\n",
    "# print(f\"{len(edges_df):,}\")\n",
    "# print(edges_df.sample(n=100, random_state=42))\n",
    "# columns_list = edges_df.columns.tolist()\n",
    "# print(columns_list)\n",
    "# print(len(edges_df))"
   ]
  },
  {
   "cell_type": "markdown",
   "metadata": {},
   "source": [
    "Below cell is for diagnostics."
   ]
  },
  {
   "cell_type": "code",
   "execution_count": 17,
   "metadata": {},
   "outputs": [],
   "source": [
    "# # NOTE: This is just here so we can see all the columns. Delete when sure it works.\n",
    "# pd.set_option('display.max_columns', None)\n",
    "# pd.set_option('display.width', None)\n",
    "# display(edges_df)\n",
    "# print(len(edges_df))"
   ]
  },
  {
   "cell_type": "markdown",
   "metadata": {},
   "source": [
    "Below cell is diagnostic; making sure all results are showing up."
   ]
  },
  {
   "cell_type": "code",
   "execution_count": 18,
   "metadata": {
    "execution": {
     "iopub.execute_input": "2024-05-01T15:11:44.637590Z",
     "iopub.status.busy": "2024-05-01T15:11:44.637517Z",
     "iopub.status.idle": "2024-05-01T15:11:44.699945Z",
     "shell.execute_reply": "2024-05-01T15:11:44.699678Z",
     "shell.execute_reply.started": "2024-05-01T15:11:44.637582Z"
    }
   },
   "outputs": [],
   "source": [
    "# # SOLVED A way to choose whether to exclude a piece of a work from connecting to itself (e.g. Trollope 1840 ch 10, ibid ch 20) (solved in SQL)\n",
    "\n",
    "# #A way to visibly toggle the thresholds to fine-grainedly shade edges and possibly connect them closer\n",
    "\n",
    "# #A way to only display desired authors all the way down to one\n",
    "# #A way to visibly toggle the weights\n",
    "# #A way to light up nodes above a certain threshold even if lower thresholds are displayed\n",
    "# #use pandas to group by work so individual book can be displayed on the graph below. \n",
    "# #check that all four results in same_author are showing up (yes, no, false positive, false negative)\n",
    "\n",
    "# #edges_df = edges_df.sample(1000)\n",
    "# print(len(edges_df))\n",
    "# min_comp_score = edges_df['comp_score'].min() \n",
    "# max_comp_score = edges_df['comp_score'].max() \n",
    "# print(min_comp_score, max_comp_score)\n",
    "\n",
    "# # Filter the DataFrame for rows where 'same_author' equals 'yes'\n",
    "# print(edges_df[edges_df['same_author'] == 'Yes'].head(10))\n",
    "# # Filter the DataFrame for rows where 'same_author' equals 'no'\n",
    "# print(edges_df[edges_df['same_author'] == 'No'].head(10))\n",
    "# # Filter the DataFrame for rows where 'same_author' equals 'false_positive'\n",
    "# print(edges_df[edges_df['same_author'] == 'False Positive'].head(10))\n",
    "# # Filter the DataFrame for rows where 'same_author' equals 'false_negative'\n",
    "# print(edges_df[edges_df['same_author'] == 'False Negative'].head(10))\n"
   ]
  },
  {
   "cell_type": "markdown",
   "metadata": {},
   "source": [
    "Now, let's add the logistic regression logic. "
   ]
  },
  {
   "cell_type": "code",
   "execution_count": 19,
   "metadata": {},
   "outputs": [
    {
     "name": "stdout",
     "output_type": "stream",
     "text": [
      "Accuracy: 0.2895\n",
      "Confusion Matrix:\n",
      "[[ 16   2   1   7]\n",
      " [242 267 452 256]\n",
      " [131 162 282 143]\n",
      " [ 15   5   5  14]]\n",
      "Classification Report:\n",
      "                precision    recall  f1-score   support\n",
      "\n",
      "False Negative       0.04      0.62      0.07        26\n",
      "False Positive       0.61      0.22      0.32      1217\n",
      "            No       0.38      0.39      0.39       718\n",
      "           Yes       0.03      0.36      0.06        39\n",
      "\n",
      "      accuracy                           0.29      2000\n",
      "     macro avg       0.27      0.40      0.21      2000\n",
      "  weighted avg       0.51      0.29      0.34      2000\n",
      "\n"
     ]
    },
    {
     "data": {
      "image/png": "[encoded data removed]",
      "text/plain": [
       "<Figure size 640x480 with 2 Axes>"
      ]
     },
     "metadata": {},
     "output_type": "display_data"
    },
    {
     "name": "stdout",
     "output_type": "stream",
     "text": [
      "Model coefficients (weights for the features):\n",
      "hap_jac_sim: 0.19396179977959935\n",
      "al_jac_sim: -0.31243886696614187\n",
      "svm_score: 1.0146976727799155\n"
     ]
    }
   ],
   "source": [
    "# Load your data into a DataFrame (assuming it's already done)\n",
    "# edges_df = pd.read_sql(df_query, con)\n",
    "\n",
    "# While testing, limit to 10000 edges or this will take forever.\n",
    "edges_df = edges_df.sample(10000)\n",
    "\n",
    "# Select relevant features and target\n",
    "features = ['hap_jac_sim', 'al_jac_sim', 'svm_score']\n",
    "X = edges_df[features]\n",
    "y = edges_df['same_author']\n",
    "\n",
    "# Standardize the features\n",
    "scaler = StandardScaler()\n",
    "X_scaled = scaler.fit_transform(X)\n",
    "\n",
    "# Split the data into training and test sets\n",
    "X_train, X_test, y_train, y_test = train_test_split(X_scaled, y, test_size=0.2, random_state=42)\n",
    "\n",
    "# Create and train the logistic regression model with balanced class weights\n",
    "model = LogisticRegression(class_weight='balanced')\n",
    "model.fit(X_train, y_train)\n",
    "\n",
    "# Predict on the test set\n",
    "y_pred = model.predict(X_test)\n",
    "\n",
    "# Evaluate the model\n",
    "accuracy = accuracy_score(y_test, y_pred)\n",
    "conf_matrix = confusion_matrix(y_test, y_pred)\n",
    "class_report = classification_report(y_test, y_pred)\n",
    "\n",
    "print(f\"Accuracy: {accuracy}\")\n",
    "print(\"Confusion Matrix:\")\n",
    "print(conf_matrix)\n",
    "print(\"Classification Report:\")\n",
    "print(class_report)\n",
    "\n",
    "# Plot confusion matrix with labels\n",
    "labels = ['Different Author', 'Same Author']\n",
    "sns.heatmap(conf_matrix, annot=True, fmt='d', cmap='Blues', xticklabels=labels, yticklabels=labels)\n",
    "plt.xlabel('Predicted Label')\n",
    "plt.ylabel('True Label')\n",
    "plt.title('Confusion Matrix')\n",
    "plt.show()\n",
    "\n",
    "# Coefficients of the model\n",
    "print(\"Model coefficients (weights for the features):\")\n",
    "for feature, coef in zip(features, model.coef_[0]):\n",
    "    print(f\"{feature}: {coef}\")"
   ]
  },
  {
   "cell_type": "markdown",
   "metadata": {},
   "source": [
    "Below is all the graphing code. It's commented out for now. "
   ]
  },
  {
   "cell_type": "code",
   "execution_count": 20,
   "metadata": {
    "execution": {
     "iopub.execute_input": "2024-05-01T15:11:44.700345Z",
     "iopub.status.busy": "2024-05-01T15:11:44.700275Z",
     "iopub.status.idle": "2024-05-01T15:11:44.704063Z",
     "shell.execute_reply": "2024-05-01T15:11:44.703830Z",
     "shell.execute_reply.started": "2024-05-01T15:11:44.700338Z"
    }
   },
   "outputs": [],
   "source": [
    "# G = nx.from_pandas_edgelist(\n",
    "#     edges_df,\n",
    "#     source = 'a_text_filename',\n",
    "#     target = 'b_text_filename',\n",
    "#     edge_attr = ['comp_score'],\n",
    "#     create_using = nx.DiGraph)\n",
    "                            \n",
    "                            "
   ]
  },
  {
   "cell_type": "code",
   "execution_count": 21,
   "metadata": {},
   "outputs": [
    {
     "name": "stdout",
     "output_type": "stream",
     "text": [
      "          pair_id  comp_score  threshold  weight_id  hap_weight  al_weight  \\\n",
      "15873655  2520899       0.735       0.90         20       0.400      0.300   \n",
      "9870651   2872195       0.840       0.95         12       0.250      0.500   \n",
      "6230300   2148334       0.465       0.65          8       0.200      0.200   \n",
      "11122034  3485921       0.956       0.80         14       0.500      0.250   \n",
      "5635721    480874       0.960       0.75          7       0.200      0.600   \n",
      "12124242   536227       0.947       0.95         15       0.275      0.450   \n",
      "15163398  5709893       0.948       0.90         19       0.300      0.300   \n",
      "19814385  4103353       0.731       0.95         25       0.300      0.350   \n",
      "5487139   3159093       0.949       0.65          7       0.200      0.600   \n",
      "17180569   449868       0.924       0.80         22       0.350      0.325   \n",
      "\n",
      "          svm_weight  hap_jac_dis  hap_jac_sim  al_jac_dis  ...  a_author_id  \\\n",
      "15873655       0.300     0.944149     0.055851    0.998964  ...           25   \n",
      "9870651        0.250     0.964407     0.035593    0.997557  ...            1   \n",
      "6230300        0.600     0.934869     0.065131    0.999138  ...           25   \n",
      "11122034       0.250     0.948473     0.051527    0.998015  ...           32   \n",
      "5635721        0.200     0.953972     0.046028    0.998645  ...           31   \n",
      "12124242       0.275     0.941647     0.058353    0.997465  ...           31   \n",
      "15163398       0.400     0.934749     0.065251    0.999342  ...           71   \n",
      "19814385       0.350     0.943627     0.056373    0.998574  ...           34   \n",
      "5487139        0.200     0.938119     0.061881    0.998771  ...           37   \n",
      "17180569       0.325     0.944444     0.055556    0.998104  ...           31   \n",
      "\n",
      "          b_author_id            a_short             b_short     same_author  \\\n",
      "15873655           69   ENG18530—Dickens    ENG18621—Braddon              No   \n",
      "9870651            31  ENG18551—Trollope   ENG18800—Disraeli              No   \n",
      "6230300            44   ENG18481—Dickens       ENG18880—Ward              No   \n",
      "11122034           52     ENG18632—Reade  ENG18901—Broughton  False Positive   \n",
      "5635721             5  ENG18440—Disraeli      ENG18870—Barry  False Positive   \n",
      "12124242           20  ENG18440—Disraeli   ENG18460—Reynolds              No   \n",
      "15163398           14   ENG18911—Gissing      ENG19120—Wells  False Positive   \n",
      "19814385           52     ENG18660—Eliot  ENG18830—Broughton              No   \n",
      "5487139            71    ENG18570—Bronte    ENG18911—Gissing  False Positive   \n",
      "17180569           34  ENG18440—Disraeli      ENG18721—Eliot  False Positive   \n",
      "\n",
      "          a_author   b_author  row_num             rand_val svm_score  \n",
      "15873655   Dickens    Braddon    34932  6814867592161686833  0.658509  \n",
      "9870651   Trollope   Disraeli    43010 -2377600326076917316  0.949790  \n",
      "6230300    Dickens       Ward    28391 -5922773136704415935  0.758982  \n",
      "11122034     Reade  Broughton    54011  1973373166989552375  0.668594  \n",
      "5635721   Disraeli      Barry     6296 -5436344649937088270  0.546844  \n",
      "12124242  Disraeli   Reynolds     6665 -4007143443125539007  0.989952  \n",
      "15163398   Gissing      Wells    87987 -8669702007091296670  0.130491  \n",
      "19814385     Eliot  Broughton    63688  8601405200427489755  0.567800  \n",
      "5487139     Brontë    Gissing    48542 -5720369074015987534  0.464756  \n",
      "17180569  Disraeli      Eliot     6050  -790254965321443350  0.919659  \n",
      "\n",
      "[10 rows x 31 columns]\n"
     ]
    }
   ],
   "source": [
    "print(edges_df.sample(n=10))"
   ]
  },
  {
   "cell_type": "code",
   "execution_count": 22,
   "metadata": {
    "execution": {
     "iopub.execute_input": "2024-05-01T15:11:44.705178Z",
     "iopub.status.busy": "2024-05-01T15:11:44.705107Z",
     "iopub.status.idle": "2024-05-01T15:11:44.707408Z",
     "shell.execute_reply": "2024-05-01T15:11:44.707162Z",
     "shell.execute_reply.started": "2024-05-01T15:11:44.705172Z"
    }
   },
   "outputs": [],
   "source": [
    "#G"
   ]
  },
  {
   "cell_type": "code",
   "execution_count": 23,
   "metadata": {
    "execution": {
     "iopub.execute_input": "2024-05-01T15:11:44.707763Z",
     "iopub.status.busy": "2024-05-01T15:11:44.707693Z",
     "iopub.status.idle": "2024-05-01T15:11:44.709407Z",
     "shell.execute_reply": "2024-05-01T15:11:44.709187Z",
     "shell.execute_reply.started": "2024-05-01T15:11:44.707756Z"
    }
   },
   "outputs": [],
   "source": [
    "# TEXT_FONT_SIZE = 8"
   ]
  },
  {
   "cell_type": "code",
   "execution_count": 24,
   "metadata": {
    "execution": {
     "iopub.execute_input": "2024-05-01T15:11:44.709759Z",
     "iopub.status.busy": "2024-05-01T15:11:44.709694Z",
     "iopub.status.idle": "2024-05-01T15:11:54.495044Z",
     "shell.execute_reply": "2024-05-01T15:11:54.494675Z",
     "shell.execute_reply.started": "2024-05-01T15:11:44.709752Z"
    }
   },
   "outputs": [],
   "source": [
    "# # Position nodes using Fruchterman-Reingold force-directed algorithm\n",
    "# pos = nx.spring_layout(G)\n",
    "\n",
    "#  # Draw nodes with labels\n",
    "# nx.draw(G, width=1, node_size=500, node_color='salmon', with_labels=True)\n",
    "# # Draw edges with arrows and labels\n",
    "# edge_labels = nx.get_edge_attributes(G, 'comp_score')\n",
    "# _ = nx.draw_networkx_edge_labels(G, pos, edge_labels=edge_labels, font_color='blue', font_size=TEXT_FONT_SIZE)\n"
   ]
  },
  {
   "cell_type": "code",
   "execution_count": 25,
   "metadata": {
    "execution": {
     "iopub.execute_input": "2024-05-01T15:11:54.495983Z",
     "iopub.status.busy": "2024-05-01T15:11:54.495800Z",
     "iopub.status.idle": "2024-05-01T15:11:56.146141Z",
     "shell.execute_reply": "2024-05-01T15:11:56.145815Z",
     "shell.execute_reply.started": "2024-05-01T15:11:54.495972Z"
    }
   },
   "outputs": [],
   "source": [
    "# C = CytoscapeWidget()\n",
    "# #C.set_layout(name='cola')\n",
    "# C.set_layout(name='dagre', rankDir='LR', spacingFactor=3)\n",
    "# C.graph.add_graph_from_networkx(G, directed=True)\n"
   ]
  },
  {
   "cell_type": "code",
   "execution_count": 26,
   "metadata": {
    "execution": {
     "iopub.execute_input": "2024-05-01T15:11:56.146774Z",
     "iopub.status.busy": "2024-05-01T15:11:56.146702Z",
     "iopub.status.idle": "2024-05-01T15:11:56.150184Z",
     "shell.execute_reply": "2024-05-01T15:11:56.149905Z",
     "shell.execute_reply.started": "2024-05-01T15:11:56.146764Z"
    }
   },
   "outputs": [],
   "source": [
    "# #this is so we can programmatically edit and choose variables for the graph\n",
    "\n",
    "# def build_style(color_threshold):\n",
    "#     return [\n",
    "#         {\n",
    "#              'selector': 'node',\n",
    "#              'style': {\n",
    "#                  'background-color': 'salmon',\n",
    "#                  'font-family': 'helvetica',\n",
    "#                  'font-size': f\"{TEXT_FONT_SIZE}px\",\n",
    "#                  'label': 'data(id)'\n",
    "#              }\n",
    "#         },\n",
    "#         {\n",
    "#              'selector': 'edge',\n",
    "#              'style': {\n",
    "#                  'line-color': 'black',\n",
    "#                  'font-family': 'helvetica',\n",
    "#                  'font-size': f\"{TEXT_FONT_SIZE}px\",\n",
    "#                  'color': 'blue',\n",
    "#                  'label': 'data(comp_score)',\n",
    "#                 'width': f\"mapData(comp_score, {min_comp_score}, {max_comp_score}, 1, 10)\"\n",
    "#                  #'width': '10px',\n",
    "#              }\n",
    "#         },\n",
    "#         {\n",
    "#             \"selector\": \"edge.directed\",\n",
    "#             \"style\": {\n",
    "#                 \"curve-style\": \"bezier\",\n",
    "#                 \"target-arrow-shape\": \"triangle\",\n",
    "#                 \"target-arrow-color\": \"black\",\n",
    "#             }\n",
    "#         }, \n",
    "#         {\n",
    "#             \"selector\": f\"edge[comp_score>{color_threshold}]\",\n",
    "#             \"style\": {\n",
    "#                 \"line-color\": \"red\",\n",
    "#             }\n",
    "#         },\n",
    "#     ]\n",
    "# style = build_style(0.92)\n",
    "# pprint(style)\n",
    "# C.set_style(style)"
   ]
  },
  {
   "cell_type": "code",
   "execution_count": 27,
   "metadata": {
    "execution": {
     "iopub.execute_input": "2024-05-01T15:11:56.150772Z",
     "iopub.status.busy": "2024-05-01T15:11:56.150697Z",
     "iopub.status.idle": "2024-05-01T15:11:56.155152Z",
     "shell.execute_reply": "2024-05-01T15:11:56.154882Z",
     "shell.execute_reply.started": "2024-05-01T15:11:56.150765Z"
    }
   },
   "outputs": [],
   "source": [
    "# #make slider\n",
    "\n",
    "# caption = widgets.Label(value='The slider value is in its initial position.')\n",
    "\n",
    "# slider = widgets.IntSlider(\n",
    "#     value=90,\n",
    "#     min=90,\n",
    "#     max=100,\n",
    "#     step=1,\n",
    "#     description='Test:',\n",
    "#     disabled=False,\n",
    "#     continuous_update=False,\n",
    "#     orientation='horizontal',\n",
    "#     readout=True,\n",
    "#     readout_format='d'\n",
    "# )\n",
    "# def handle_slider_change(change):\n",
    "#     color_threshold = change.new / 100\n",
    "#     caption.value = f\"The slider value is: {color_threshold}\"\n",
    "#     style = build_style(color_threshold=color_threshold)\n",
    "#     C.set_style(style)\n",
    "    \n",
    "# slider.observe(handle_slider_change, names='value')\n",
    "# display(caption, slider)"
   ]
  },
  {
   "cell_type": "code",
   "execution_count": 28,
   "metadata": {
    "execution": {
     "iopub.execute_input": "2024-05-01T15:11:56.158547Z",
     "iopub.status.busy": "2024-05-01T15:11:56.158490Z",
     "iopub.status.idle": "2024-05-01T15:11:56.175175Z",
     "shell.execute_reply": "2024-05-01T15:11:56.174948Z",
     "shell.execute_reply.started": "2024-05-01T15:11:56.158541Z"
    }
   },
   "outputs": [],
   "source": [
    "# C"
   ]
  },
  {
   "cell_type": "markdown",
   "metadata": {
    "execution": {
     "iopub.execute_input": "2024-05-01T15:12:13.280532Z",
     "iopub.status.busy": "2024-05-01T15:12:13.279970Z",
     "iopub.status.idle": "2024-05-01T15:12:13.433944Z",
     "shell.execute_reply": "2024-05-01T15:12:13.433399Z",
     "shell.execute_reply.started": "2024-05-01T15:12:13.280501Z"
    }
   },
   "source": [
    " # MOVE OVER TO CYTOSCAPE APP FOR STRETCHY THINGS\n",
    "\n"
   ]
  },
  {
   "cell_type": "code",
   "execution_count": 29,
   "metadata": {
    "execution": {
     "iopub.execute_input": "2024-05-01T15:13:12.163420Z",
     "iopub.status.busy": "2024-05-01T15:13:12.162966Z",
     "iopub.status.idle": "2024-05-01T15:13:12.513863Z",
     "shell.execute_reply": "2024-05-01T15:13:12.512479Z",
     "shell.execute_reply.started": "2024-05-01T15:13:12.163394Z"
    }
   },
   "outputs": [],
   "source": [
    "# p4c.cytoscape_ping()"
   ]
  },
  {
   "cell_type": "code",
   "execution_count": 30,
   "metadata": {
    "execution": {
     "iopub.execute_input": "2024-05-01T15:13:37.163623Z",
     "iopub.status.busy": "2024-05-01T15:13:37.163094Z",
     "iopub.status.idle": "2024-05-01T15:13:37.198537Z",
     "shell.execute_reply": "2024-05-01T15:13:37.197082Z",
     "shell.execute_reply.started": "2024-05-01T15:13:37.163595Z"
    }
   },
   "outputs": [],
   "source": [
    "# p4c.cytoscape_version_info()"
   ]
  },
  {
   "cell_type": "code",
   "execution_count": 31,
   "metadata": {
    "execution": {
     "iopub.execute_input": "2024-05-01T15:13:54.735862Z",
     "iopub.status.busy": "2024-05-01T15:13:54.735366Z",
     "iopub.status.idle": "2024-05-01T15:13:55.744710Z",
     "shell.execute_reply": "2024-05-01T15:13:55.744055Z",
     "shell.execute_reply.started": "2024-05-01T15:13:54.735831Z"
    }
   },
   "outputs": [],
   "source": [
    "# p4c.create_network_from_networkx(G)\n"
   ]
  },
  {
   "cell_type": "code",
   "execution_count": null,
   "metadata": {},
   "outputs": [],
   "source": [
    "\n",
    "\n"
   ]
  }
 ],
 "metadata": {
  "kernelspec": {
   "display_name": "Python 3 (ipykernel)",
   "language": "python",
   "name": "python3"
  },
  "language_info": {
   "codemirror_mode": {
    "name": "ipython",
    "version": 3
   },
   "file_extension": ".py",
   "mimetype": "text/x-python",
   "name": "python",
   "nbconvert_exporter": "python",
   "pygments_lexer": "ipython3",
   "version": "3.11.7"
  }
 },
 "nbformat": 4,
 "nbformat_minor": 4
}
