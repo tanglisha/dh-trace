{
 "cells": [
  {
   "cell_type": "markdown",
   "metadata": {},
   "source": [
    "# Begin visualisations"
   ]
  },
  {
   "cell_type": "code",
   "execution_count": 1,
   "metadata": {
    "execution": {
     "iopub.execute_input": "2024-04-30T14:47:00.695781Z",
     "iopub.status.busy": "2024-04-30T14:47:00.695283Z",
     "iopub.status.idle": "2024-04-30T14:47:01.065988Z",
     "shell.execute_reply": "2024-04-30T14:47:01.065716Z",
     "shell.execute_reply.started": "2024-04-30T14:47:00.695740Z"
    }
   },
   "outputs": [],
   "source": [
    "from pathlib import Path\n",
    "import pandas as pd\n",
    "import sqlite3\n",
    "import networkx as nx\n",
    "#import matplotlib.pyplot as plt\n",
    "from ipycytoscape import CytoscapeWidget\n",
    "from sqlite3 import OperationalError\n",
    "from contextlib import suppress"
   ]
  },
  {
   "cell_type": "code",
   "execution_count": 2,
   "metadata": {
    "execution": {
     "iopub.execute_input": "2024-04-30T14:47:02.595481Z",
     "iopub.status.busy": "2024-04-30T14:47:02.594823Z",
     "iopub.status.idle": "2024-04-30T14:47:02.603416Z",
     "shell.execute_reply": "2024-04-30T14:47:02.602868Z",
     "shell.execute_reply.started": "2024-04-30T14:47:02.595450Z"
    }
   },
   "outputs": [
    {
     "data": {
      "text/plain": [
       "PosixPath('..')"
      ]
     },
     "execution_count": 2,
     "metadata": {},
     "output_type": "execute_result"
    }
   ],
   "source": [
    "working = Path('..')\n",
    "working"
   ]
  },
  {
   "cell_type": "code",
   "execution_count": 3,
   "metadata": {
    "execution": {
     "iopub.execute_input": "2024-04-30T14:47:03.115834Z",
     "iopub.status.busy": "2024-04-30T14:47:03.115452Z",
     "iopub.status.idle": "2024-04-30T14:47:03.246552Z",
     "shell.execute_reply": "2024-04-30T14:47:03.245886Z",
     "shell.execute_reply.started": "2024-04-30T14:47:03.115807Z"
    }
   },
   "outputs": [
    {
     "name": "stdout",
     "output_type": "stream",
     "text": [
      "/Users/tarah/Library/Mobile Documents/com~apple~CloudDocs/ONGOING-Oxford/OxfordTree/oxford_uni/dh-trace/notebooks\n"
     ]
    }
   ],
   "source": [
    "!pwd"
   ]
  },
  {
   "cell_type": "code",
   "execution_count": 4,
   "metadata": {
    "execution": {
     "iopub.execute_input": "2024-04-30T14:47:03.683052Z",
     "iopub.status.busy": "2024-04-30T14:47:03.682743Z",
     "iopub.status.idle": "2024-04-30T14:47:03.808526Z",
     "shell.execute_reply": "2024-04-30T14:47:03.807020Z",
     "shell.execute_reply.started": "2024-04-30T14:47:03.683025Z"
    }
   },
   "outputs": [
    {
     "name": "stdout",
     "output_type": "stream",
     "text": [
      "LICENSE                    load_hapaxes.py\n",
      "Project History.pdf        load_jaccard.py\n",
      "README.md                  load_ngram_intersects.py\n",
      "\u001b[34m__pycache__\u001b[m\u001b[m                load_ngrams.py\n",
      "\u001b[34march\u001b[m\u001b[m                       load_relationships.py\n",
      "authors.txt                make_3d_plot.py\n",
      "auto_author_prediction.py  make_auto_scatterplot.py\n",
      "\u001b[31mbegin.sh\u001b[m\u001b[m                   make_confusion.py\n",
      "\u001b[34mcleaning_splitting_scripts\u001b[m\u001b[m make_dash.py\n",
      "database_ops.py            make_histogram.py\n",
      "\u001b[34mdh-trace-venv\u001b[m\u001b[m              make_jumbo_dash.py\n",
      "diagrams.ipynb             make_lines.py\n",
      "do_svm.py                  \u001b[34mnotebooks\u001b[m\u001b[m\n",
      "\u001b[31mdo_viz.sh\u001b[m\u001b[m                  poetry.lock\n",
      "\u001b[34mexplore\u001b[m\u001b[m                    predict_ops.py\n",
      "hapaxes_1tM.py             \u001b[34mprojects\u001b[m\u001b[m\n",
      "init_db.py                 pyproject.toml\n",
      "\u001b[34mjan24\u001b[m\u001b[m                      requirements.txt\n",
      "load_alignments.py         show_previous_averages.py\n",
      "load_authors_and_texts.py  util.py\n",
      "load_hapax_intersects.py   \u001b[34mutils\u001b[m\u001b[m\n"
     ]
    }
   ],
   "source": [
    "!ls $working"
   ]
  },
  {
   "cell_type": "code",
   "execution_count": 5,
   "metadata": {
    "execution": {
     "iopub.execute_input": "2024-04-30T14:47:04.189426Z",
     "iopub.status.busy": "2024-04-30T14:47:04.188862Z",
     "iopub.status.idle": "2024-04-30T14:47:04.194020Z",
     "shell.execute_reply": "2024-04-30T14:47:04.193332Z",
     "shell.execute_reply.started": "2024-04-30T14:47:04.189389Z"
    }
   },
   "outputs": [],
   "source": [
    "things = working.glob('*')"
   ]
  },
  {
   "cell_type": "code",
   "execution_count": 6,
   "metadata": {
    "execution": {
     "iopub.execute_input": "2024-04-30T14:47:04.661128Z",
     "iopub.status.busy": "2024-04-30T14:47:04.660421Z",
     "iopub.status.idle": "2024-04-30T14:47:04.668988Z",
     "shell.execute_reply": "2024-04-30T14:47:04.667462Z",
     "shell.execute_reply.started": "2024-04-30T14:47:04.661079Z"
    }
   },
   "outputs": [
    {
     "name": "stdout",
     "output_type": "stream",
     "text": [
      "../make_dash.py\n",
      "../database_ops.py\n",
      "../diagrams.ipynb\n",
      "../.DS_Store\n",
      "../LICENSE\n",
      "../requirements.txt\n",
      "../cleaning_splitting_scripts\n",
      "../make_lines.py\n",
      "../util.py\n",
      "../auto_author_prediction.py\n",
      "../make_confusion.py\n",
      "../projects\n",
      "../pyproject.toml\n",
      "../predict_ops.py\n",
      "../load_jaccard.py\n",
      "../do_viz.sh\n",
      "../utils\n",
      "../__pycache__\n",
      "../load_hapaxes.py\n",
      "../Project History.pdf\n",
      "../jan24\n",
      "../explore\n",
      "../README.md\n",
      "../load_ngram_intersects.py\n",
      "../load_hapax_intersects.py\n",
      "../load_ngrams.py\n",
      "../.gitignore\n",
      "../arch\n",
      "../load_alignments.py\n",
      "../make_jumbo_dash.py\n",
      "../begin.sh\n",
      "../load_authors_and_texts.py\n",
      "../hapaxes_1tM.py\n",
      "../make_auto_scatterplot.py\n",
      "../show_previous_averages.py\n",
      "../make_3d_plot.py\n",
      "../poetry.lock\n",
      "../.git\n",
      "../.vscode\n",
      "../load_relationships.py\n",
      "../authors.txt\n",
      "../dh-trace-venv\n",
      "../make_histogram.py\n",
      "../notebooks\n",
      "../do_svm.py\n",
      "../.current_project\n",
      "../init_db.py\n"
     ]
    }
   ],
   "source": [
    "for thing in things:\n",
    "    print(thing)"
   ]
  },
  {
   "cell_type": "code",
   "execution_count": 7,
   "metadata": {
    "execution": {
     "iopub.execute_input": "2024-04-30T14:47:05.181349Z",
     "iopub.status.busy": "2024-04-30T14:47:05.180869Z",
     "iopub.status.idle": "2024-04-30T14:47:05.188826Z",
     "shell.execute_reply": "2024-04-30T14:47:05.187442Z",
     "shell.execute_reply.started": "2024-04-30T14:47:05.181321Z"
    }
   },
   "outputs": [],
   "source": [
    "project_name = 'eltec-100'\n",
    "project_path = working / 'projects' / project_name"
   ]
  },
  {
   "cell_type": "code",
   "execution_count": 8,
   "metadata": {
    "execution": {
     "iopub.execute_input": "2024-04-30T14:47:05.643999Z",
     "iopub.status.busy": "2024-04-30T14:47:05.643544Z",
     "iopub.status.idle": "2024-04-30T14:47:05.648963Z",
     "shell.execute_reply": "2024-04-30T14:47:05.648315Z",
     "shell.execute_reply.started": "2024-04-30T14:47:05.643961Z"
    }
   },
   "outputs": [
    {
     "data": {
      "text/plain": [
       "PosixPath('../projects/eltec-100')"
      ]
     },
     "execution_count": 8,
     "metadata": {},
     "output_type": "execute_result"
    }
   ],
   "source": [
    "project_path"
   ]
  },
  {
   "cell_type": "code",
   "execution_count": 9,
   "metadata": {
    "execution": {
     "iopub.execute_input": "2024-04-30T14:47:06.144526Z",
     "iopub.status.busy": "2024-04-30T14:47:06.144150Z",
     "iopub.status.idle": "2024-04-30T14:47:06.150742Z",
     "shell.execute_reply": "2024-04-30T14:47:06.149916Z",
     "shell.execute_reply.started": "2024-04-30T14:47:06.144503Z"
    }
   },
   "outputs": [
    {
     "data": {
      "text/plain": [
       "PosixPath('../projects/eltec-100/db/eltec-100.db')"
      ]
     },
     "execution_count": 9,
     "metadata": {},
     "output_type": "execute_result"
    }
   ],
   "source": [
    "db_path = project_path / 'db' / f'{project_name}.db'\n",
    "db_path"
   ]
  },
  {
   "cell_type": "code",
   "execution_count": 10,
   "metadata": {
    "execution": {
     "iopub.execute_input": "2024-04-30T14:47:06.612229Z",
     "iopub.status.busy": "2024-04-30T14:47:06.611926Z",
     "iopub.status.idle": "2024-04-30T14:47:06.616073Z",
     "shell.execute_reply": "2024-04-30T14:47:06.615546Z",
     "shell.execute_reply.started": "2024-04-30T14:47:06.612209Z"
    }
   },
   "outputs": [
    {
     "data": {
      "text/plain": [
       "True"
      ]
     },
     "execution_count": 10,
     "metadata": {},
     "output_type": "execute_result"
    }
   ],
   "source": [
    "db_path.exists()"
   ]
  },
  {
   "cell_type": "code",
   "execution_count": 11,
   "metadata": {
    "execution": {
     "iopub.execute_input": "2024-04-30T14:47:07.227365Z",
     "iopub.status.busy": "2024-04-30T14:47:07.226853Z",
     "iopub.status.idle": "2024-04-30T14:47:07.233078Z",
     "shell.execute_reply": "2024-04-30T14:47:07.231789Z",
     "shell.execute_reply.started": "2024-04-30T14:47:07.227338Z"
    }
   },
   "outputs": [],
   "source": [
    "EDGES_QUERY = \"\"\"\n",
    "SELECT \n",
    "    calculation.pair_id,\n",
    "    round(calculation.comp_score, 3) as comp_score,\n",
    "    threshold,\n",
    "    weight.weight_id,\n",
    "    weight.hap_weight,\n",
    "    weight.al_weight,\n",
    "    text_pair.text_a AS a_text_id,\n",
    "    text_pair.text_b AS b_text_id,\n",
    "    text_a.source_filename AS a_text_filename,\n",
    "    text_b.source_filename AS b_text_filename,\n",
    "    dir_a.id AS a_work_dir_id,\n",
    "    dir_b.id AS b_work_dir_id,\n",
    "    dir_a.dir AS a_work,\n",
    "    dir_b.dir AS b_work,\n",
    "    text_a.author_id AS a_author_id,\n",
    "    text_b.author_id AS b_author_id,\n",
    "    calculation.same_author,\n",
    "    author_a.author_name AS a_author,\n",
    "    author_b.author_name AS b_author\n",
    "FROM calculations AS calculation\n",
    "    JOIN text_pairs AS text_pair ON text_pair.id = calculation.pair_id\n",
    "    JOIN weights AS weight ON weight.weight_id = calculation.weight_id\n",
    "    JOIN all_texts AS text_a ON text_a.text_id = text_pair.text_a\n",
    "    JOIN all_texts AS text_b ON text_b.text_id = text_pair.text_b\n",
    "    JOIN dirs AS dir_a ON dir_a.id = text_a.dir\n",
    "    JOIN dirs AS dir_b ON dir_b.id = text_b.dir\n",
    "    JOIN authors AS author_a ON author_a.id = text_a.author_id\n",
    "    JOIN authors AS author_b ON author_b.id = text_b.author_id\n",
    "    -- WHERE -- calculation.weight_id = 10\n",
    "    -- AND threshold = 0.75\n",
    "    -- AND a_author_id <> b_author_id\n",
    "    ORDER BY pair_id\n",
    "    -- LIMIT 10\n",
    "\"\"\"\n",
    "#add LIMIT 10 at bottom to limit results to first 10"
   ]
  },
  {
   "cell_type": "code",
   "execution_count": 12,
   "metadata": {
    "execution": {
     "iopub.execute_input": "2024-04-30T14:47:07.794279Z",
     "iopub.status.busy": "2024-04-30T14:47:07.793974Z",
     "iopub.status.idle": "2024-04-30T14:47:07.798742Z",
     "shell.execute_reply": "2024-04-30T14:47:07.797424Z",
     "shell.execute_reply.started": "2024-04-30T14:47:07.794255Z"
    }
   },
   "outputs": [
    {
     "data": {
      "text/plain": [
       "'\\nSELECT \\n    calculation.pair_id,\\n    round(calculation.comp_score, 3) as comp_score,\\n    threshold,\\n    weight.weight_id,\\n    weight.hap_weight,\\n    weight.al_weight,\\n    text_pair.text_a AS a_text_id,\\n    text_pair.text_b AS b_text_id,\\n    text_a.source_filename AS a_text_filename,\\n    text_b.source_filename AS b_text_filename,\\n    dir_a.id AS a_work_dir_id,\\n    dir_b.id AS b_work_dir_id,\\n    dir_a.dir AS a_work,\\n    dir_b.dir AS b_work,\\n    text_a.author_id AS a_author_id,\\n    text_b.author_id AS b_author_id,\\n    calculation.same_author,\\n    author_a.author_name AS a_author,\\n    author_b.author_name AS b_author\\nFROM calculations AS calculation\\n    JOIN text_pairs AS text_pair ON text_pair.id = calculation.pair_id\\n    JOIN weights AS weight ON weight.weight_id = calculation.weight_id\\n    JOIN all_texts AS text_a ON text_a.text_id = text_pair.text_a\\n    JOIN all_texts AS text_b ON text_b.text_id = text_pair.text_b\\n    JOIN dirs AS dir_a ON dir_a.id = text_a.dir\\n    JOIN dirs AS dir_b ON dir_b.id = text_b.dir\\n    JOIN authors AS author_a ON author_a.id = text_a.author_id\\n    JOIN authors AS author_b ON author_b.id = text_b.author_id\\n    -- WHERE -- calculation.weight_id = 10\\n    -- AND threshold = 0.75\\n    -- AND a_author_id <> b_author_id\\n    ORDER BY pair_id\\n    -- LIMIT 10\\n'"
      ]
     },
     "execution_count": 12,
     "metadata": {},
     "output_type": "execute_result"
    }
   ],
   "source": [
    "EDGES_QUERY"
   ]
  },
  {
   "cell_type": "code",
   "execution_count": 13,
   "metadata": {
    "execution": {
     "iopub.execute_input": "2024-04-30T14:47:08.279243Z",
     "iopub.status.busy": "2024-04-30T14:47:08.278886Z",
     "iopub.status.idle": "2024-04-30T14:47:08.283750Z",
     "shell.execute_reply": "2024-04-30T14:47:08.283280Z",
     "shell.execute_reply.started": "2024-04-30T14:47:08.279221Z"
    }
   },
   "outputs": [],
   "source": [
    "con = sqlite3.connect(db_path)"
   ]
  },
  {
   "cell_type": "code",
   "execution_count": 14,
   "metadata": {
    "execution": {
     "iopub.execute_input": "2024-04-30T14:47:08.881093Z",
     "iopub.status.busy": "2024-04-30T14:47:08.880625Z",
     "iopub.status.idle": "2024-04-30T14:47:08.885621Z",
     "shell.execute_reply": "2024-04-30T14:47:08.885053Z",
     "shell.execute_reply.started": "2024-04-30T14:47:08.881053Z"
    }
   },
   "outputs": [],
   "source": [
    "#creates a view of the extensive query above and lets me work with it as if it's a tables\n",
    "with suppress(OperationalError):\n",
    "    con.execute(f\"\"\"\n",
    "    CREATE VIEW edges\n",
    "    AS\n",
    "    {EDGES_QUERY}\n",
    "    \"\"\")\n",
    "#TODO - check suppression of errors"
   ]
  },
  {
   "cell_type": "code",
   "execution_count": 15,
   "metadata": {
    "execution": {
     "iopub.execute_input": "2024-04-30T14:47:09.429456Z",
     "iopub.status.busy": "2024-04-30T14:47:09.429052Z",
     "iopub.status.idle": "2024-04-30T14:47:09.436137Z",
     "shell.execute_reply": "2024-04-30T14:47:09.434255Z",
     "shell.execute_reply.started": "2024-04-30T14:47:09.429430Z"
    }
   },
   "outputs": [
    {
     "name": "stdout",
     "output_type": "stream",
     "text": [
      "\n",
      "SELECT * \n",
      "FROM edges \n",
      "WHERE a_work_dir_id <> b_work_dir_id\n",
      "AND weight_id = 10 \n",
      "AND threshold = 0.9\n",
      "-- LIMIT 1000\n",
      "\n"
     ]
    }
   ],
   "source": [
    "#specify weight and threshold for SQL call\n",
    "weight_value = 10\n",
    "threshold_value = 0.9\n",
    "\n",
    "#Actually run the query\n",
    "query = f\"\"\"\n",
    "SELECT * \n",
    "FROM edges \n",
    "WHERE a_work_dir_id <> b_work_dir_id\n",
    "AND weight_id = {weight_value} \n",
    "AND threshold = {threshold_value}\n",
    "-- LIMIT 1000\n",
    "\"\"\"\n",
    "print(query)"
   ]
  },
  {
   "cell_type": "code",
   "execution_count": 37,
   "metadata": {
    "execution": {
     "iopub.execute_input": "2024-04-30T14:51:51.704342Z",
     "iopub.status.busy": "2024-04-30T14:51:51.703885Z",
     "iopub.status.idle": "2024-04-30T14:51:57.275361Z",
     "shell.execute_reply": "2024-04-30T14:51:57.275061Z",
     "shell.execute_reply.started": "2024-04-30T14:51:51.704300Z"
    }
   },
   "outputs": [
    {
     "name": "stdout",
     "output_type": "stream",
     "text": [
      "544,123\n"
     ]
    }
   ],
   "source": [
    "edges_df = pd.read_sql(query, con)\n",
    "print(f\"{len(edges_df):,}\")"
   ]
  },
  {
   "cell_type": "code",
   "execution_count": 28,
   "metadata": {
    "execution": {
     "iopub.execute_input": "2024-04-30T14:49:35.762524Z",
     "iopub.status.busy": "2024-04-30T14:49:35.762155Z",
     "iopub.status.idle": "2024-04-30T14:49:35.852759Z",
     "shell.execute_reply": "2024-04-30T14:49:35.852364Z",
     "shell.execute_reply.started": "2024-04-30T14:49:35.762490Z"
    }
   },
   "outputs": [
    {
     "name": "stdout",
     "output_type": "stream",
     "text": [
      "1000\n",
      "0.911 0.941\n"
     ]
    }
   ],
   "source": [
    "# SOLVED A way to choose whether to exclude a piece of a work from connecting to itself (e.g. Trollope 1840 ch 10, ibid ch 20) (solved in SQL)\n",
    "\n",
    "#A way to visibly toggle the thresholds to fine-grainedly shade edges and possibly connect them closer\n",
    "\n",
    "#A way to only display desired authors all the way down to one\n",
    "#A way to visibly toggle the weights\n",
    "#A way to light up nodes above a certain threshold even if lower thresholds are displayed\n",
    "#use pandas to group by work so individual book can be displayed on the graph below. \n",
    "\n",
    "edges_df = edges_df.sample(1000)\n",
    "print(len(edges_df))\n",
    "min_comp_score = edges_df['comp_score'].min() \n",
    "max_comp_score = edges_df['comp_score'].max() \n",
    "print(min_comp_score, max_comp_score)"
   ]
  },
  {
   "cell_type": "code",
   "execution_count": 29,
   "metadata": {
    "execution": {
     "iopub.execute_input": "2024-04-30T14:49:37.482123Z",
     "iopub.status.busy": "2024-04-30T14:49:37.481678Z",
     "iopub.status.idle": "2024-04-30T14:49:37.491534Z",
     "shell.execute_reply": "2024-04-30T14:49:37.490705Z",
     "shell.execute_reply.started": "2024-04-30T14:49:37.482088Z"
    }
   },
   "outputs": [],
   "source": [
    "G = nx.from_pandas_edgelist(\n",
    "    edges_df,\n",
    "    source = 'a_text_filename',\n",
    "    target = 'b_text_filename',\n",
    "    edge_attr = ['comp_score'],\n",
    "    create_using = nx.DiGraph)\n",
    "                            \n",
    "                            "
   ]
  },
  {
   "cell_type": "code",
   "execution_count": 30,
   "metadata": {
    "execution": {
     "iopub.execute_input": "2024-04-30T14:49:38.101606Z",
     "iopub.status.busy": "2024-04-30T14:49:38.101118Z",
     "iopub.status.idle": "2024-04-30T14:49:38.108662Z",
     "shell.execute_reply": "2024-04-30T14:49:38.107589Z",
     "shell.execute_reply.started": "2024-04-30T14:49:38.101576Z"
    }
   },
   "outputs": [
    {
     "data": {
      "text/plain": [
       "<networkx.classes.digraph.DiGraph at 0x10f09a0d0>"
      ]
     },
     "execution_count": 30,
     "metadata": {},
     "output_type": "execute_result"
    }
   ],
   "source": [
    "G"
   ]
  },
  {
   "cell_type": "code",
   "execution_count": 31,
   "metadata": {
    "execution": {
     "iopub.execute_input": "2024-04-30T14:49:38.666455Z",
     "iopub.status.busy": "2024-04-30T14:49:38.665725Z",
     "iopub.status.idle": "2024-04-30T14:49:38.671434Z",
     "shell.execute_reply": "2024-04-30T14:49:38.670663Z",
     "shell.execute_reply.started": "2024-04-30T14:49:38.666403Z"
    }
   },
   "outputs": [],
   "source": [
    "TEXT_FONT_SIZE = 8"
   ]
  },
  {
   "cell_type": "code",
   "execution_count": 32,
   "metadata": {
    "execution": {
     "iopub.execute_input": "2024-04-30T14:49:39.116994Z",
     "iopub.status.busy": "2024-04-30T14:49:39.116628Z",
     "iopub.status.idle": "2024-04-30T14:49:48.866585Z",
     "shell.execute_reply": "2024-04-30T14:49:48.866293Z",
     "shell.execute_reply.started": "2024-04-30T14:49:39.116970Z"
    }
   },
   "outputs": [
    {
     "data": {
      "image/png": "[encoded data removed]",
      "text/plain": [
       "<Figure size 640x480 with 1 Axes>"
      ]
     },
     "metadata": {},
     "output_type": "display_data"
    }
   ],
   "source": [
    "# Position nodes using Fruchterman-Reingold force-directed algorithm\n",
    "pos = nx.spring_layout(G)\n",
    "\n",
    " # Draw nodes with labels\n",
    "nx.draw(G, width=1, node_size=500, node_color='salmon', with_labels=True)\n",
    "# Draw edges with arrows and labels\n",
    "edge_labels = nx.get_edge_attributes(G, 'comp_score')\n",
    "_ = nx.draw_networkx_edge_labels(G, pos, edge_labels=edge_labels, font_color='blue', font_size=TEXT_FONT_SIZE)\n"
   ]
  },
  {
   "cell_type": "code",
   "execution_count": 33,
   "metadata": {
    "execution": {
     "iopub.execute_input": "2024-04-30T14:49:48.867408Z",
     "iopub.status.busy": "2024-04-30T14:49:48.867305Z",
     "iopub.status.idle": "2024-04-30T14:49:50.560537Z",
     "shell.execute_reply": "2024-04-30T14:49:50.560224Z",
     "shell.execute_reply.started": "2024-04-30T14:49:48.867399Z"
    }
   },
   "outputs": [],
   "source": [
    "C = CytoscapeWidget()\n",
    "#C.set_layout(name='cola')\n",
    "C.set_layout(name='dagre', rankDir='LR', spacingFactor=3)\n",
    "C.graph.add_graph_from_networkx(G, directed=True)\n"
   ]
  },
  {
   "cell_type": "code",
   "execution_count": 34,
   "metadata": {
    "execution": {
     "iopub.execute_input": "2024-04-30T14:49:50.561039Z",
     "iopub.status.busy": "2024-04-30T14:49:50.560962Z",
     "iopub.status.idle": "2024-04-30T14:49:50.563581Z",
     "shell.execute_reply": "2024-04-30T14:49:50.563230Z",
     "shell.execute_reply.started": "2024-04-30T14:49:50.561032Z"
    }
   },
   "outputs": [],
   "source": [
    "#this is so we can programmatically edit and choose variables for the graph\n",
    "\n",
    "C.set_style(\n",
    "    [\n",
    "        {\n",
    "             'selector': 'node',\n",
    "             'style': {\n",
    "                 'background-color': 'salmon',\n",
    "                 'font-family': 'helvetica',\n",
    "                 'font-size': f\"{TEXT_FONT_SIZE}px\",\n",
    "                 'label': 'data(id)'\n",
    "                 \n",
    "             }\n",
    "        },\n",
    "        {\n",
    "             'selector': 'edge',\n",
    "             'style': {\n",
    "                 'line-color': 'black',\n",
    "                 'font-family': 'helvetica',\n",
    "                 'font-size': f\"{TEXT_FONT_SIZE}px\",\n",
    "                 'color': 'blue',\n",
    "                 'label': 'data(comp_score)',\n",
    "                'width': f\"mapData(comp_score, {min_comp_score}, {max_comp_score}, 1, 10)\"\n",
    "                 #'width': '10px',\n",
    "             }\n",
    "        },\n",
    "        {\n",
    "            \"selector\": \"edge.directed\",\n",
    "            \"style\": {\n",
    "                \"curve-style\": \"bezier\",\n",
    "                \"target-arrow-shape\": \"triangle\",\n",
    "                \"target-arrow-color\": \"black\",\n",
    "            },\n",
    "        },        \n",
    "    ])"
   ]
  },
  {
   "cell_type": "code",
   "execution_count": 35,
   "metadata": {
    "execution": {
     "iopub.execute_input": "2024-04-30T14:49:50.564585Z",
     "iopub.status.busy": "2024-04-30T14:49:50.564507Z",
     "iopub.status.idle": "2024-04-30T14:49:50.581380Z",
     "shell.execute_reply": "2024-04-30T14:49:50.581112Z",
     "shell.execute_reply.started": "2024-04-30T14:49:50.564577Z"
    }
   },
   "outputs": [
    {
     "data": {
      "application/vnd.jupyter.widget-view+json": {
       "model_id": "91445478f8a74d2ab48be029e74d1394",
       "version_major": 2,
       "version_minor": 0
      },
      "text/plain": [
       "CytoscapeWidget(cytoscape_layout={'name': 'dagre', 'rankDir': 'LR', 'spacingFactor': 3}, cytoscape_style=[{'se…"
      ]
     },
     "execution_count": 35,
     "metadata": {},
     "output_type": "execute_result"
    }
   ],
   "source": [
    "C"
   ]
  },
  {
   "cell_type": "code",
   "execution_count": 36,
   "metadata": {
    "execution": {
     "iopub.execute_input": "2024-04-30T14:49:50.581914Z",
     "iopub.status.busy": "2024-04-30T14:49:50.581805Z",
     "iopub.status.idle": "2024-04-30T14:49:50.583654Z",
     "shell.execute_reply": "2024-04-30T14:49:50.583467Z",
     "shell.execute_reply.started": "2024-04-30T14:49:50.581901Z"
    }
   },
   "outputs": [
    {
     "data": {
      "text/plain": [
       "3"
      ]
     },
     "execution_count": 36,
     "metadata": {},
     "output_type": "execute_result"
    }
   ],
   "source": [
    "3"
   ]
  },
  {
   "cell_type": "code",
   "execution_count": null,
   "metadata": {},
   "outputs": [],
   "source": []
  },
  {
   "cell_type": "code",
   "execution_count": null,
   "metadata": {},
   "outputs": [],
   "source": []
  }
 ],
 "metadata": {
  "kernelspec": {
   "display_name": "Python 3 (ipykernel)",
   "language": "python",
   "name": "python3"
  },
  "language_info": {
   "codemirror_mode": {
    "name": "ipython",
    "version": 3
   },
   "file_extension": ".py",
   "mimetype": "text/x-python",
   "name": "python",
   "nbconvert_exporter": "python",
   "pygments_lexer": "ipython3",
   "version": "3.11.7"
  }
 },
 "nbformat": 4,
 "nbformat_minor": 4
}
